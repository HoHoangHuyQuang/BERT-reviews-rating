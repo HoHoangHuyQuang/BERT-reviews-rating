{
  "cells": [
    {
      "cell_type": "code",
      "execution_count": null,
      "metadata": {
        "colab": {
          "base_uri": "https://localhost:8080/"
        },
        "id": "6bRV9S9WisWX",
        "outputId": "af9153de-7033-4023-9ccf-73439d46f381"
      },
      "outputs": [
        {
          "output_type": "stream",
          "name": "stdout",
          "text": [
            "Requirement already satisfied: transformers in /usr/local/lib/python3.7/dist-packages (4.18.0)\n",
            "Requirement already satisfied: importlib-metadata in /usr/local/lib/python3.7/dist-packages (from transformers) (4.11.3)\n",
            "Requirement already satisfied: regex!=2019.12.17 in /usr/local/lib/python3.7/dist-packages (from transformers) (2019.12.20)\n",
            "Requirement already satisfied: filelock in /usr/local/lib/python3.7/dist-packages (from transformers) (3.6.0)\n",
            "Requirement already satisfied: pyyaml>=5.1 in /usr/local/lib/python3.7/dist-packages (from transformers) (6.0)\n",
            "Requirement already satisfied: requests in /usr/local/lib/python3.7/dist-packages (from transformers) (2.23.0)\n",
            "Requirement already satisfied: sacremoses in /usr/local/lib/python3.7/dist-packages (from transformers) (0.0.49)\n",
            "Requirement already satisfied: tokenizers!=0.11.3,<0.13,>=0.11.1 in /usr/local/lib/python3.7/dist-packages (from transformers) (0.12.1)\n",
            "Requirement already satisfied: huggingface-hub<1.0,>=0.1.0 in /usr/local/lib/python3.7/dist-packages (from transformers) (0.5.1)\n",
            "Requirement already satisfied: numpy>=1.17 in /usr/local/lib/python3.7/dist-packages (from transformers) (1.21.5)\n",
            "Requirement already satisfied: packaging>=20.0 in /usr/local/lib/python3.7/dist-packages (from transformers) (21.3)\n",
            "Requirement already satisfied: tqdm>=4.27 in /usr/local/lib/python3.7/dist-packages (from transformers) (4.64.0)\n",
            "Requirement already satisfied: typing-extensions>=3.7.4.3 in /usr/local/lib/python3.7/dist-packages (from huggingface-hub<1.0,>=0.1.0->transformers) (4.1.1)\n",
            "Requirement already satisfied: pyparsing!=3.0.5,>=2.0.2 in /usr/local/lib/python3.7/dist-packages (from packaging>=20.0->transformers) (3.0.8)\n",
            "Requirement already satisfied: zipp>=0.5 in /usr/local/lib/python3.7/dist-packages (from importlib-metadata->transformers) (3.8.0)\n",
            "Requirement already satisfied: urllib3!=1.25.0,!=1.25.1,<1.26,>=1.21.1 in /usr/local/lib/python3.7/dist-packages (from requests->transformers) (1.24.3)\n",
            "Requirement already satisfied: certifi>=2017.4.17 in /usr/local/lib/python3.7/dist-packages (from requests->transformers) (2021.10.8)\n",
            "Requirement already satisfied: idna<3,>=2.5 in /usr/local/lib/python3.7/dist-packages (from requests->transformers) (2.10)\n",
            "Requirement already satisfied: chardet<4,>=3.0.2 in /usr/local/lib/python3.7/dist-packages (from requests->transformers) (3.0.4)\n",
            "Requirement already satisfied: joblib in /usr/local/lib/python3.7/dist-packages (from sacremoses->transformers) (1.1.0)\n",
            "Requirement already satisfied: six in /usr/local/lib/python3.7/dist-packages (from sacremoses->transformers) (1.15.0)\n",
            "Requirement already satisfied: click in /usr/local/lib/python3.7/dist-packages (from sacremoses->transformers) (7.1.2)\n",
            "Requirement already satisfied: underthesea in /usr/local/lib/python3.7/dist-packages (1.3.4)\n",
            "Requirement already satisfied: Click>=6.0 in /usr/local/lib/python3.7/dist-packages (from underthesea) (7.1.2)\n",
            "Requirement already satisfied: scikit-learn in /usr/local/lib/python3.7/dist-packages (from underthesea) (1.0.2)\n",
            "Requirement already satisfied: requests in /usr/local/lib/python3.7/dist-packages (from underthesea) (2.23.0)\n",
            "Requirement already satisfied: underthesea-core==0.0.4_alpha.10 in /usr/local/lib/python3.7/dist-packages (from underthesea) (0.0.4a10)\n",
            "Requirement already satisfied: tqdm in /usr/local/lib/python3.7/dist-packages (from underthesea) (4.64.0)\n",
            "Requirement already satisfied: unidecode in /usr/local/lib/python3.7/dist-packages (from underthesea) (1.3.4)\n",
            "Requirement already satisfied: python-crfsuite>=0.9.6 in /usr/local/lib/python3.7/dist-packages (from underthesea) (0.9.8)\n",
            "Requirement already satisfied: joblib in /usr/local/lib/python3.7/dist-packages (from underthesea) (1.1.0)\n",
            "Requirement already satisfied: PyYAML in /usr/local/lib/python3.7/dist-packages (from underthesea) (6.0)\n",
            "Requirement already satisfied: nltk in /usr/local/lib/python3.7/dist-packages (from underthesea) (3.2.5)\n",
            "Requirement already satisfied: six in /usr/local/lib/python3.7/dist-packages (from nltk->underthesea) (1.15.0)\n",
            "Requirement already satisfied: idna<3,>=2.5 in /usr/local/lib/python3.7/dist-packages (from requests->underthesea) (2.10)\n",
            "Requirement already satisfied: urllib3!=1.25.0,!=1.25.1,<1.26,>=1.21.1 in /usr/local/lib/python3.7/dist-packages (from requests->underthesea) (1.24.3)\n",
            "Requirement already satisfied: certifi>=2017.4.17 in /usr/local/lib/python3.7/dist-packages (from requests->underthesea) (2021.10.8)\n",
            "Requirement already satisfied: chardet<4,>=3.0.2 in /usr/local/lib/python3.7/dist-packages (from requests->underthesea) (3.0.4)\n",
            "Requirement already satisfied: threadpoolctl>=2.0.0 in /usr/local/lib/python3.7/dist-packages (from scikit-learn->underthesea) (3.1.0)\n",
            "Requirement already satisfied: scipy>=1.1.0 in /usr/local/lib/python3.7/dist-packages (from scikit-learn->underthesea) (1.4.1)\n",
            "Requirement already satisfied: numpy>=1.14.6 in /usr/local/lib/python3.7/dist-packages (from scikit-learn->underthesea) (1.21.5)\n"
          ]
        }
      ],
      "source": [
        "%pip install transformers\n",
        "%pip install underthesea"
      ]
    },
    {
      "cell_type": "code",
      "execution_count": null,
      "metadata": {
        "id": "WaKU68XujNuw"
      },
      "outputs": [],
      "source": [
        "import pandas as pd\n",
        "import transformers\n",
        "import matplotlib.pyplot as plt\n",
        "import re\n",
        "import numpy as np\n",
        "import underthesea\n",
        "from underthesea import word_tokenize\n",
        "import tensorflow as tf\n",
        "import matplotlib.pyplot as plt\n"
      ]
    },
    {
      "cell_type": "markdown",
      "metadata": {
        "id": "I_j-x7b-ukrF"
      },
      "source": [
        "### Text preprocess"
      ]
    },
    {
      "cell_type": "code",
      "execution_count": null,
      "metadata": {
        "id": "5JMQrdVqjNw3"
      },
      "outputs": [],
      "source": [
        "## lower case + delete spaces\n",
        "\n",
        "def nornamlize_text(text):\n",
        "    if text.startswith(\"http\"):\n",
        "        return \"<link spam> \" + text + \" <link spam>\"\n",
        "    text = re.sub(r'\\n',' ', text)    \n",
        "    text = re.sub(r'[^\\w\\s]+',' ', text)    \n",
        "    text = re.sub(r'\\s+',' ', text)\n",
        "    text = text.lower().strip()\n",
        "    return text"
      ]
    },
    {
      "cell_type": "code",
      "execution_count": null,
      "metadata": {
        "id": "w0YeDwcRfNwH"
      },
      "outputs": [],
      "source": [
        "## unicode convert\n",
        "def _load_dicchar():\n",
        "    dic = {}\n",
        "    char1252 = 'à|á|ả|ã|ạ|ầ|ấ|ẩ|ẫ|ậ|ằ|ắ|ẳ|ẵ|ặ|è|é|ẻ|ẽ|ẹ|ề|ế|ể|ễ|ệ|ì|í|ỉ|ĩ|ị|ò|ó|ỏ|õ|ọ|ồ|ố|ổ|ỗ|ộ|ờ|ớ|ở|ỡ|ợ|ù|ú|ủ|ũ|ụ|ừ|ứ|ử|ữ|ự|ỳ|ý|ỷ|ỹ|ỵ|À|Á|Ả|Ã|Ạ|Ầ|Ấ|Ẩ|Ẫ|Ậ|Ằ|Ắ|Ẳ|Ẵ|Ặ|È|É|Ẻ|Ẽ|Ẹ|Ề|Ế|Ể|Ễ|Ệ|Ì|Í|Ỉ|Ĩ|Ị|Ò|Ó|Ỏ|Õ|Ọ|Ồ|Ố|Ổ|Ỗ|Ộ|Ờ|Ớ|Ở|Ỡ|Ợ|Ù|Ú|Ủ|Ũ|Ụ|Ừ|Ứ|Ử|Ữ|Ự|Ỳ|Ý|Ỷ|Ỹ|Ỵ'.split(\n",
        "        '|')\n",
        "    charutf8 = \"à|á|ả|ã|ạ|ầ|ấ|ẩ|ẫ|ậ|ằ|ắ|ẳ|ẵ|ặ|è|é|ẻ|ẽ|ẹ|ề|ế|ể|ễ|ệ|ì|í|ỉ|ĩ|ị|ò|ó|ỏ|õ|ọ|ồ|ố|ổ|ỗ|ộ|ờ|ớ|ở|ỡ|ợ|ù|ú|ủ|ũ|ụ|ừ|ứ|ử|ữ|ự|ỳ|ý|ỷ|ỹ|ỵ|À|Á|Ả|Ã|Ạ|Ầ|Ấ|Ẩ|Ẫ|Ậ|Ằ|Ắ|Ẳ|Ẵ|Ặ|È|É|Ẻ|Ẽ|Ẹ|Ề|Ế|Ể|Ễ|Ệ|Ì|Í|Ỉ|Ĩ|Ị|Ò|Ó|Ỏ|Õ|Ọ|Ồ|Ố|Ổ|Ỗ|Ộ|Ờ|Ớ|Ở|Ỡ|Ợ|Ù|Ú|Ủ|Ũ|Ụ|Ừ|Ứ|Ử|Ữ|Ự|Ỳ|Ý|Ỷ|Ỹ|Ỵ\".split(\n",
        "        '|')\n",
        "    for i in range(len(char1252)):\n",
        "        dic[char1252[i]] = charutf8[i]\n",
        "    return dic\n",
        "\n",
        "dicchar = _load_dicchar()\n",
        " \n",
        "def covert_unicode(txt):\n",
        "    return re.sub(\n",
        "        r'à|á|ả|ã|ạ|ầ|ấ|ẩ|ẫ|ậ|ằ|ắ|ẳ|ẵ|ặ|è|é|ẻ|ẽ|ẹ|ề|ế|ể|ễ|ệ|ì|í|ỉ|ĩ|ị|ò|ó|ỏ|õ|ọ|ồ|ố|ổ|ỗ|ộ|ờ|ớ|ở|ỡ|ợ|ù|ú|ủ|ũ|ụ|ừ|ứ|ử|ữ|ự|ỳ|ý|ỷ|ỹ|ỵ|À|Á|Ả|Ã|Ạ|Ầ|Ấ|Ẩ|Ẫ|Ậ|Ằ|Ắ|Ẳ|Ẵ|Ặ|È|É|Ẻ|Ẽ|Ẹ|Ề|Ế|Ể|Ễ|Ệ|Ì|Í|Ỉ|Ĩ|Ị|Ò|Ó|Ỏ|Õ|Ọ|Ồ|Ố|Ổ|Ỗ|Ộ|Ờ|Ớ|Ở|Ỡ|Ợ|Ù|Ú|Ủ|Ũ|Ụ|Ừ|Ứ|Ử|Ữ|Ự|Ỳ|Ý|Ỷ|Ỹ|Ỵ',\n",
        "        lambda x: dicchar[x.group()], txt)\n",
        " "
      ]
    },
    {
      "cell_type": "code",
      "execution_count": null,
      "metadata": {
        "id": "5_UrUDzxw0R7"
      },
      "outputs": [],
      "source": [
        "#https://github.com/stopwords/vietnamese-stopwords\n",
        "def _load_stopwords():\n",
        "    sw = []\n",
        "    with open(\"/content/drive/MyDrive/vietnamese-stopwords-dash.txt\", encoding='utf-8') as f:       \n",
        "      for line in f:\n",
        "        line = line.replace(\"\\n\",\"\")        \n",
        "        sw.append(line)\n",
        "      f.close()\n",
        "    return sw\n",
        "\n",
        "stopwords = _load_stopwords()\n",
        "\n",
        "def remove_stopwords(text):\n",
        "  text = word_tokenize(text)\n",
        "  text = [token.replace(' ', '_') for token in text]\n",
        "  text = [word for word in text if word not in stopwords]\n",
        "  \n",
        "  return ' '.join(text)"
      ]
    },
    {
      "cell_type": "code",
      "source": [
        "def _load_teen_code():\n",
        "  tc = dict()\n",
        "  with open(\"/content/drive/MyDrive/teencode.txt\", encoding='utf-8') as f:    \n",
        "    for line in f:\n",
        "      line = line.replace(\"\\n\",\"\")\n",
        "      key, val = line.split('\\t')\n",
        "      tc[key] = val\n",
        "    f.close()\n",
        "  return tc\n",
        "\n",
        "teen_code = _load_teen_code()"
      ],
      "metadata": {
        "id": "5XLWPAJvXmex"
      },
      "execution_count": null,
      "outputs": []
    },
    {
      "cell_type": "code",
      "execution_count": null,
      "metadata": {
        "id": "QXZNcyYrexuY"
      },
      "outputs": [],
      "source": [
        "def teen_code_convert(text):\n",
        "  res = ''\n",
        "  for word in text.split():\n",
        "    try:\n",
        "      word = re.sub(\" \", \"_\", teen_code[word])      \n",
        "    except:\n",
        "      None\n",
        "    finally:\n",
        "      res +=  word+ ' '\n",
        "  return res"
      ]
    },
    {
      "cell_type": "code",
      "execution_count": null,
      "metadata": {
        "id": "_OzS98cHnkcw"
      },
      "outputs": [],
      "source": [
        "def text_clean(text):\n",
        "\n",
        "  text = covert_unicode(text)\n",
        "  text = nornamlize_text(text)\n",
        "  \n",
        "  text = teen_code_convert(text)\n",
        "  text = remove_stopwords(text)\n",
        "  return text.strip()"
      ]
    },
    {
      "cell_type": "markdown",
      "metadata": {
        "id": "ubZr8hb4uuMe"
      },
      "source": [
        "#### Load data and clean"
      ]
    },
    {
      "cell_type": "code",
      "execution_count": null,
      "metadata": {
        "colab": {
          "base_uri": "https://localhost:8080/",
          "height": 423
        },
        "id": "1ZGOvtgojNyo",
        "outputId": "4979e97d-d7e5-42e0-f89f-d0f6a9822a0b"
      },
      "outputs": [
        {
          "output_type": "execute_result",
          "data": {
            "text/plain": [
              "                                                 Comment  Label\n",
              "0                                  k sd đc k nên mua nha      0\n",
              "1                                           Đúng như ảnh      3\n",
              "2      Tai nghe âm lượng nhỏ. Đeo lâu vẫn có cảm giác...      0\n",
              "3      Mua sẳn phẩm về khá thất vọng, làm hết cách cá...      0\n",
              "4      dùng được 1 tuần thì hỏng , chán chả buồn bảo ...      0\n",
              "...                                                  ...    ...\n",
              "15824  gửi từ hcm ra hn mà có 2 hôm, sáng nay đã nhận...      4\n",
              "15825  Tạm ổn Chất lượng về dịch vụ giao hàng không c...      2\n",
              "15826  Chính sách hỗ trợ rất tệ Mua máy về dùng được ...      0\n",
              "15827  minh đa đuoc bao hanh chua lam cach nao đê biet\\n      2\n",
              "15828  sản phẩm mới , chính hãng , tốt lắm ae , dành ...      4\n",
              "\n",
              "[15829 rows x 2 columns]"
            ],
            "text/html": [
              "\n",
              "  <div id=\"df-a6888e97-9039-4c79-b140-b32767195724\">\n",
              "    <div class=\"colab-df-container\">\n",
              "      <div>\n",
              "<style scoped>\n",
              "    .dataframe tbody tr th:only-of-type {\n",
              "        vertical-align: middle;\n",
              "    }\n",
              "\n",
              "    .dataframe tbody tr th {\n",
              "        vertical-align: top;\n",
              "    }\n",
              "\n",
              "    .dataframe thead th {\n",
              "        text-align: right;\n",
              "    }\n",
              "</style>\n",
              "<table border=\"1\" class=\"dataframe\">\n",
              "  <thead>\n",
              "    <tr style=\"text-align: right;\">\n",
              "      <th></th>\n",
              "      <th>Comment</th>\n",
              "      <th>Label</th>\n",
              "    </tr>\n",
              "  </thead>\n",
              "  <tbody>\n",
              "    <tr>\n",
              "      <th>0</th>\n",
              "      <td>k sd đc k nên mua nha</td>\n",
              "      <td>0</td>\n",
              "    </tr>\n",
              "    <tr>\n",
              "      <th>1</th>\n",
              "      <td>Đúng như ảnh</td>\n",
              "      <td>3</td>\n",
              "    </tr>\n",
              "    <tr>\n",
              "      <th>2</th>\n",
              "      <td>Tai nghe âm lượng nhỏ. Đeo lâu vẫn có cảm giác...</td>\n",
              "      <td>0</td>\n",
              "    </tr>\n",
              "    <tr>\n",
              "      <th>3</th>\n",
              "      <td>Mua sẳn phẩm về khá thất vọng, làm hết cách cá...</td>\n",
              "      <td>0</td>\n",
              "    </tr>\n",
              "    <tr>\n",
              "      <th>4</th>\n",
              "      <td>dùng được 1 tuần thì hỏng , chán chả buồn bảo ...</td>\n",
              "      <td>0</td>\n",
              "    </tr>\n",
              "    <tr>\n",
              "      <th>...</th>\n",
              "      <td>...</td>\n",
              "      <td>...</td>\n",
              "    </tr>\n",
              "    <tr>\n",
              "      <th>15824</th>\n",
              "      <td>gửi từ hcm ra hn mà có 2 hôm, sáng nay đã nhận...</td>\n",
              "      <td>4</td>\n",
              "    </tr>\n",
              "    <tr>\n",
              "      <th>15825</th>\n",
              "      <td>Tạm ổn Chất lượng về dịch vụ giao hàng không c...</td>\n",
              "      <td>2</td>\n",
              "    </tr>\n",
              "    <tr>\n",
              "      <th>15826</th>\n",
              "      <td>Chính sách hỗ trợ rất tệ Mua máy về dùng được ...</td>\n",
              "      <td>0</td>\n",
              "    </tr>\n",
              "    <tr>\n",
              "      <th>15827</th>\n",
              "      <td>minh đa đuoc bao hanh chua lam cach nao đê biet\\n</td>\n",
              "      <td>2</td>\n",
              "    </tr>\n",
              "    <tr>\n",
              "      <th>15828</th>\n",
              "      <td>sản phẩm mới , chính hãng , tốt lắm ae , dành ...</td>\n",
              "      <td>4</td>\n",
              "    </tr>\n",
              "  </tbody>\n",
              "</table>\n",
              "<p>15829 rows × 2 columns</p>\n",
              "</div>\n",
              "      <button class=\"colab-df-convert\" onclick=\"convertToInteractive('df-a6888e97-9039-4c79-b140-b32767195724')\"\n",
              "              title=\"Convert this dataframe to an interactive table.\"\n",
              "              style=\"display:none;\">\n",
              "        \n",
              "  <svg xmlns=\"http://www.w3.org/2000/svg\" height=\"24px\"viewBox=\"0 0 24 24\"\n",
              "       width=\"24px\">\n",
              "    <path d=\"M0 0h24v24H0V0z\" fill=\"none\"/>\n",
              "    <path d=\"M18.56 5.44l.94 2.06.94-2.06 2.06-.94-2.06-.94-.94-2.06-.94 2.06-2.06.94zm-11 1L8.5 8.5l.94-2.06 2.06-.94-2.06-.94L8.5 2.5l-.94 2.06-2.06.94zm10 10l.94 2.06.94-2.06 2.06-.94-2.06-.94-.94-2.06-.94 2.06-2.06.94z\"/><path d=\"M17.41 7.96l-1.37-1.37c-.4-.4-.92-.59-1.43-.59-.52 0-1.04.2-1.43.59L10.3 9.45l-7.72 7.72c-.78.78-.78 2.05 0 2.83L4 21.41c.39.39.9.59 1.41.59.51 0 1.02-.2 1.41-.59l7.78-7.78 2.81-2.81c.8-.78.8-2.07 0-2.86zM5.41 20L4 18.59l7.72-7.72 1.47 1.35L5.41 20z\"/>\n",
              "  </svg>\n",
              "      </button>\n",
              "      \n",
              "  <style>\n",
              "    .colab-df-container {\n",
              "      display:flex;\n",
              "      flex-wrap:wrap;\n",
              "      gap: 12px;\n",
              "    }\n",
              "\n",
              "    .colab-df-convert {\n",
              "      background-color: #E8F0FE;\n",
              "      border: none;\n",
              "      border-radius: 50%;\n",
              "      cursor: pointer;\n",
              "      display: none;\n",
              "      fill: #1967D2;\n",
              "      height: 32px;\n",
              "      padding: 0 0 0 0;\n",
              "      width: 32px;\n",
              "    }\n",
              "\n",
              "    .colab-df-convert:hover {\n",
              "      background-color: #E2EBFA;\n",
              "      box-shadow: 0px 1px 2px rgba(60, 64, 67, 0.3), 0px 1px 3px 1px rgba(60, 64, 67, 0.15);\n",
              "      fill: #174EA6;\n",
              "    }\n",
              "\n",
              "    [theme=dark] .colab-df-convert {\n",
              "      background-color: #3B4455;\n",
              "      fill: #D2E3FC;\n",
              "    }\n",
              "\n",
              "    [theme=dark] .colab-df-convert:hover {\n",
              "      background-color: #434B5C;\n",
              "      box-shadow: 0px 1px 3px 1px rgba(0, 0, 0, 0.15);\n",
              "      filter: drop-shadow(0px 1px 2px rgba(0, 0, 0, 0.3));\n",
              "      fill: #FFFFFF;\n",
              "    }\n",
              "  </style>\n",
              "\n",
              "      <script>\n",
              "        const buttonEl =\n",
              "          document.querySelector('#df-a6888e97-9039-4c79-b140-b32767195724 button.colab-df-convert');\n",
              "        buttonEl.style.display =\n",
              "          google.colab.kernel.accessAllowed ? 'block' : 'none';\n",
              "\n",
              "        async function convertToInteractive(key) {\n",
              "          const element = document.querySelector('#df-a6888e97-9039-4c79-b140-b32767195724');\n",
              "          const dataTable =\n",
              "            await google.colab.kernel.invokeFunction('convertToInteractive',\n",
              "                                                     [key], {});\n",
              "          if (!dataTable) return;\n",
              "\n",
              "          const docLinkHtml = 'Like what you see? Visit the ' +\n",
              "            '<a target=\"_blank\" href=https://colab.research.google.com/notebooks/data_table.ipynb>data table notebook</a>'\n",
              "            + ' to learn more about interactive tables.';\n",
              "          element.innerHTML = '';\n",
              "          dataTable['output_type'] = 'display_data';\n",
              "          await google.colab.output.renderOutput(dataTable, element);\n",
              "          const docLink = document.createElement('div');\n",
              "          docLink.innerHTML = docLinkHtml;\n",
              "          element.appendChild(docLink);\n",
              "        }\n",
              "      </script>\n",
              "    </div>\n",
              "  </div>\n",
              "  "
            ]
          },
          "metadata": {},
          "execution_count": 27
        }
      ],
      "source": [
        "df_data = pd.read_excel('/content/drive/MyDrive/train.xlsx')\n",
        "df_data"
      ]
    },
    {
      "cell_type": "code",
      "execution_count": null,
      "metadata": {
        "id": "T5E4c4_9VSgW"
      },
      "outputs": [],
      "source": [
        "df_data['Comment'] = df_data['Comment'].apply(text_clean)"
      ]
    },
    {
      "cell_type": "code",
      "source": [
        "def label_convert(label):\n",
        "  if label == 0:\n",
        "    return '1 sao'\n",
        "  if label == 1:\n",
        "    return '2 sao'\n",
        "  if label == 2:\n",
        "    return '3 sao'\n",
        "  if label == 3:\n",
        "    return '4 sao'\n",
        "  if label == 4:\n",
        "    return '5 sao'\n",
        "\n",
        "\n",
        "df_data['Label_txt'] = df_data['Label'].apply(label_convert)"
      ],
      "metadata": {
        "id": "8b1WFORcGb6b"
      },
      "execution_count": null,
      "outputs": []
    },
    {
      "cell_type": "code",
      "execution_count": null,
      "metadata": {
        "colab": {
          "base_uri": "https://localhost:8080/",
          "height": 423
        },
        "id": "-sHTZHiRw0QF",
        "outputId": "22c62e72-4597-4ef3-fc68-0f4d44a37c42"
      },
      "outputs": [
        {
          "output_type": "execute_result",
          "data": {
            "text/plain": [
              "                                                 Comment  Label Label_txt\n",
              "0                               không được không mua nha      0     1 sao\n",
              "1                                                như ảnh      3     4 sao\n",
              "2      tai nghe âm_lượng nhỏ đeo vẫn cảm_giác đau vàn...      0     1 sao\n",
              "3      mua sẳn phẩm về khá thất_vọng hết_cách không_t...      0     1 sao\n",
              "4           dùng được 1 tuần hỏng chán chả buồn bảo_hành      0     1 sao\n",
              "...                                                  ...    ...       ...\n",
              "15824        gửi Hồ_Chí_Minh Hà_Nội 2 hôm nhận được hàng      4     5 sao\n",
              "15825  tạm ổn chất_lượng về dịch_vụ giao hàng_không b...      2     3 sao\n",
              "15826  chính_sách hỗ_trợ rất tệ mua máy về dùng được ...      0     1 sao\n",
              "15827         minh đa đuoc bao hanh chua lam cach nao đê      2     3 sao\n",
              "15828       sản_phẩm hãng tốt lắm anh_em cho nâng_cấp pc      4     5 sao\n",
              "\n",
              "[15829 rows x 3 columns]"
            ],
            "text/html": [
              "\n",
              "  <div id=\"df-9ec40321-faaa-4c75-bb00-1bb06ae6df33\">\n",
              "    <div class=\"colab-df-container\">\n",
              "      <div>\n",
              "<style scoped>\n",
              "    .dataframe tbody tr th:only-of-type {\n",
              "        vertical-align: middle;\n",
              "    }\n",
              "\n",
              "    .dataframe tbody tr th {\n",
              "        vertical-align: top;\n",
              "    }\n",
              "\n",
              "    .dataframe thead th {\n",
              "        text-align: right;\n",
              "    }\n",
              "</style>\n",
              "<table border=\"1\" class=\"dataframe\">\n",
              "  <thead>\n",
              "    <tr style=\"text-align: right;\">\n",
              "      <th></th>\n",
              "      <th>Comment</th>\n",
              "      <th>Label</th>\n",
              "      <th>Label_txt</th>\n",
              "    </tr>\n",
              "  </thead>\n",
              "  <tbody>\n",
              "    <tr>\n",
              "      <th>0</th>\n",
              "      <td>không được không mua nha</td>\n",
              "      <td>0</td>\n",
              "      <td>1 sao</td>\n",
              "    </tr>\n",
              "    <tr>\n",
              "      <th>1</th>\n",
              "      <td>như ảnh</td>\n",
              "      <td>3</td>\n",
              "      <td>4 sao</td>\n",
              "    </tr>\n",
              "    <tr>\n",
              "      <th>2</th>\n",
              "      <td>tai nghe âm_lượng nhỏ đeo vẫn cảm_giác đau vàn...</td>\n",
              "      <td>0</td>\n",
              "      <td>1 sao</td>\n",
              "    </tr>\n",
              "    <tr>\n",
              "      <th>3</th>\n",
              "      <td>mua sẳn phẩm về khá thất_vọng hết_cách không_t...</td>\n",
              "      <td>0</td>\n",
              "      <td>1 sao</td>\n",
              "    </tr>\n",
              "    <tr>\n",
              "      <th>4</th>\n",
              "      <td>dùng được 1 tuần hỏng chán chả buồn bảo_hành</td>\n",
              "      <td>0</td>\n",
              "      <td>1 sao</td>\n",
              "    </tr>\n",
              "    <tr>\n",
              "      <th>...</th>\n",
              "      <td>...</td>\n",
              "      <td>...</td>\n",
              "      <td>...</td>\n",
              "    </tr>\n",
              "    <tr>\n",
              "      <th>15824</th>\n",
              "      <td>gửi Hồ_Chí_Minh Hà_Nội 2 hôm nhận được hàng</td>\n",
              "      <td>4</td>\n",
              "      <td>5 sao</td>\n",
              "    </tr>\n",
              "    <tr>\n",
              "      <th>15825</th>\n",
              "      <td>tạm ổn chất_lượng về dịch_vụ giao hàng_không b...</td>\n",
              "      <td>2</td>\n",
              "      <td>3 sao</td>\n",
              "    </tr>\n",
              "    <tr>\n",
              "      <th>15826</th>\n",
              "      <td>chính_sách hỗ_trợ rất tệ mua máy về dùng được ...</td>\n",
              "      <td>0</td>\n",
              "      <td>1 sao</td>\n",
              "    </tr>\n",
              "    <tr>\n",
              "      <th>15827</th>\n",
              "      <td>minh đa đuoc bao hanh chua lam cach nao đê</td>\n",
              "      <td>2</td>\n",
              "      <td>3 sao</td>\n",
              "    </tr>\n",
              "    <tr>\n",
              "      <th>15828</th>\n",
              "      <td>sản_phẩm hãng tốt lắm anh_em cho nâng_cấp pc</td>\n",
              "      <td>4</td>\n",
              "      <td>5 sao</td>\n",
              "    </tr>\n",
              "  </tbody>\n",
              "</table>\n",
              "<p>15829 rows × 3 columns</p>\n",
              "</div>\n",
              "      <button class=\"colab-df-convert\" onclick=\"convertToInteractive('df-9ec40321-faaa-4c75-bb00-1bb06ae6df33')\"\n",
              "              title=\"Convert this dataframe to an interactive table.\"\n",
              "              style=\"display:none;\">\n",
              "        \n",
              "  <svg xmlns=\"http://www.w3.org/2000/svg\" height=\"24px\"viewBox=\"0 0 24 24\"\n",
              "       width=\"24px\">\n",
              "    <path d=\"M0 0h24v24H0V0z\" fill=\"none\"/>\n",
              "    <path d=\"M18.56 5.44l.94 2.06.94-2.06 2.06-.94-2.06-.94-.94-2.06-.94 2.06-2.06.94zm-11 1L8.5 8.5l.94-2.06 2.06-.94-2.06-.94L8.5 2.5l-.94 2.06-2.06.94zm10 10l.94 2.06.94-2.06 2.06-.94-2.06-.94-.94-2.06-.94 2.06-2.06.94z\"/><path d=\"M17.41 7.96l-1.37-1.37c-.4-.4-.92-.59-1.43-.59-.52 0-1.04.2-1.43.59L10.3 9.45l-7.72 7.72c-.78.78-.78 2.05 0 2.83L4 21.41c.39.39.9.59 1.41.59.51 0 1.02-.2 1.41-.59l7.78-7.78 2.81-2.81c.8-.78.8-2.07 0-2.86zM5.41 20L4 18.59l7.72-7.72 1.47 1.35L5.41 20z\"/>\n",
              "  </svg>\n",
              "      </button>\n",
              "      \n",
              "  <style>\n",
              "    .colab-df-container {\n",
              "      display:flex;\n",
              "      flex-wrap:wrap;\n",
              "      gap: 12px;\n",
              "    }\n",
              "\n",
              "    .colab-df-convert {\n",
              "      background-color: #E8F0FE;\n",
              "      border: none;\n",
              "      border-radius: 50%;\n",
              "      cursor: pointer;\n",
              "      display: none;\n",
              "      fill: #1967D2;\n",
              "      height: 32px;\n",
              "      padding: 0 0 0 0;\n",
              "      width: 32px;\n",
              "    }\n",
              "\n",
              "    .colab-df-convert:hover {\n",
              "      background-color: #E2EBFA;\n",
              "      box-shadow: 0px 1px 2px rgba(60, 64, 67, 0.3), 0px 1px 3px 1px rgba(60, 64, 67, 0.15);\n",
              "      fill: #174EA6;\n",
              "    }\n",
              "\n",
              "    [theme=dark] .colab-df-convert {\n",
              "      background-color: #3B4455;\n",
              "      fill: #D2E3FC;\n",
              "    }\n",
              "\n",
              "    [theme=dark] .colab-df-convert:hover {\n",
              "      background-color: #434B5C;\n",
              "      box-shadow: 0px 1px 3px 1px rgba(0, 0, 0, 0.15);\n",
              "      filter: drop-shadow(0px 1px 2px rgba(0, 0, 0, 0.3));\n",
              "      fill: #FFFFFF;\n",
              "    }\n",
              "  </style>\n",
              "\n",
              "      <script>\n",
              "        const buttonEl =\n",
              "          document.querySelector('#df-9ec40321-faaa-4c75-bb00-1bb06ae6df33 button.colab-df-convert');\n",
              "        buttonEl.style.display =\n",
              "          google.colab.kernel.accessAllowed ? 'block' : 'none';\n",
              "\n",
              "        async function convertToInteractive(key) {\n",
              "          const element = document.querySelector('#df-9ec40321-faaa-4c75-bb00-1bb06ae6df33');\n",
              "          const dataTable =\n",
              "            await google.colab.kernel.invokeFunction('convertToInteractive',\n",
              "                                                     [key], {});\n",
              "          if (!dataTable) return;\n",
              "\n",
              "          const docLinkHtml = 'Like what you see? Visit the ' +\n",
              "            '<a target=\"_blank\" href=https://colab.research.google.com/notebooks/data_table.ipynb>data table notebook</a>'\n",
              "            + ' to learn more about interactive tables.';\n",
              "          element.innerHTML = '';\n",
              "          dataTable['output_type'] = 'display_data';\n",
              "          await google.colab.output.renderOutput(dataTable, element);\n",
              "          const docLink = document.createElement('div');\n",
              "          docLink.innerHTML = docLinkHtml;\n",
              "          element.appendChild(docLink);\n",
              "        }\n",
              "      </script>\n",
              "    </div>\n",
              "  </div>\n",
              "  "
            ]
          },
          "metadata": {},
          "execution_count": 30
        }
      ],
      "source": [
        "df_data"
      ]
    },
    {
      "cell_type": "markdown",
      "metadata": {
        "id": "EqtKsSlfvA2y"
      },
      "source": [
        "#### Visualization"
      ]
    },
    {
      "cell_type": "code",
      "execution_count": null,
      "metadata": {
        "colab": {
          "base_uri": "https://localhost:8080/",
          "height": 483
        },
        "id": "Our2KX6DjN2X",
        "outputId": "bfecd965-a11e-4727-eeba-65e7453a0234"
      },
      "outputs": [
        {
          "output_type": "display_data",
          "data": {
            "text/plain": [
              "<Figure size 1008x576 with 1 Axes>"
            ],
            "image/png": "[encoded data removed]"
          },
          "metadata": {
            "needs_background": "light"
          }
        }
      ],
      "source": [
        "ax = df_data['Label_txt'].value_counts().plot(kind='bar',  figsize=(14, 8) ,rot=-1)\n",
        "for bar in ax.patches:    \n",
        "    ax.annotate(bar.get_height(),\n",
        "                   (bar.get_x() + bar.get_width() / 2,\n",
        "                    bar.get_height()), ha='center', va='center',\n",
        "                   size=15, xytext=(0, 8),\n",
        "                   textcoords='offset points')"
      ]
    },
    {
      "cell_type": "markdown",
      "metadata": {
        "id": "b3XeWX8wufPc"
      },
      "source": [
        "### Word to id"
      ]
    },
    {
      "cell_type": "code",
      "execution_count": null,
      "metadata": {
        "colab": {
          "base_uri": "https://localhost:8080/"
        },
        "id": "rGEjkxqc0YJd",
        "outputId": "63dd53c6-ad37-4618-e62f-293bceeb196b"
      },
      "outputs": [
        {
          "output_type": "stream",
          "name": "stderr",
          "text": [
            "Special tokens have been added in the vocabulary, make sure the associated word embeddings are fine-tuned or trained.\n"
          ]
        }
      ],
      "source": [
        "from transformers import AutoTokenizer\n",
        "\n",
        "tokenizer = AutoTokenizer.from_pretrained(\"vinai/phobert-base\", cls_token= '[CLS]', sep_token = '[SEP]')"
      ]
    },
    {
      "cell_type": "code",
      "execution_count": null,
      "metadata": {
        "id": "o3EDi4EN0YF4"
      },
      "outputs": [],
      "source": [
        "def word_vectorlizer(text):\n",
        "    \n",
        "    tmp = tokenizer.encode_plus(text, padding= 'max_length', max_length = 200, truncation=True)\n",
        "    \n",
        "    return tmp['input_ids'], tmp['attention_mask']"
      ]
    },
    {
      "cell_type": "markdown",
      "metadata": {
        "id": "-JulEEagvHFa"
      },
      "source": [
        "#### Over sampling"
      ]
    },
    {
      "cell_type": "code",
      "execution_count": null,
      "metadata": {
        "id": "IbQxcud_uezv"
      },
      "outputs": [],
      "source": [
        "# Over sampling\n",
        "\n",
        "highest_class_len = len(df_data[df_data['Label_txt']== '5 sao'])\n",
        "\n",
        "for i in range(0, 4):\n",
        "    num = highest_class_len -len(df_data[df_data['Label_txt']== \"{} sao\".format(i+1)])\n",
        "    tmp = df_data[df_data['Label_txt']== \"{} sao\".format(i+1)].sample(num, replace= True)\n",
        "    df_data = df_data.append(tmp)"
      ]
    },
    {
      "cell_type": "code",
      "execution_count": null,
      "metadata": {
        "colab": {
          "base_uri": "https://localhost:8080/",
          "height": 483
        },
        "id": "aQX_JcWcuexv",
        "outputId": "815533d2-9098-4774-f1ef-c8f3a306ee5d"
      },
      "outputs": [
        {
          "output_type": "display_data",
          "data": {
            "text/plain": [
              "<Figure size 1008x576 with 1 Axes>"
            ],
            "image/png": "[encoded data removed]"
          },
          "metadata": {
            "needs_background": "light"
          }
        }
      ],
      "source": [
        "ax = df_data['Label_txt'].value_counts().plot(kind='bar',  figsize=(14, 8) ,rot=-1)\n",
        "for bar in ax.patches:    \n",
        "    ax.annotate(bar.get_height(),\n",
        "                   (bar.get_x() + bar.get_width() / 2,\n",
        "                    bar.get_height()), ha='center', va='center',\n",
        "                   size=15, xytext=(0, 8),\n",
        "                   textcoords='offset points')"
      ]
    },
    {
      "cell_type": "code",
      "execution_count": null,
      "metadata": {
        "id": "uvkLbCgheXhT"
      },
      "outputs": [],
      "source": [
        "Xids = np.zeros((len(df_data), 200), dtype= 'int64')\n",
        "Xmask = np.zeros((len(df_data), 200), dtype= 'int64')\n",
        "\n",
        "for i, sentence in enumerate(df_data['Comment']):\n",
        "    Xids[i, :], Xmask[i, :] = word_vectorlizer(sentence)\n"
      ]
    },
    {
      "cell_type": "code",
      "execution_count": null,
      "metadata": {
        "colab": {
          "base_uri": "https://localhost:8080/",
          "height": 108
        },
        "id": "1P1wCOOvpoK6",
        "outputId": "735683c4-ca04-4a9c-9791-d0ec1f7aff8c"
      },
      "outputs": [
        {
          "output_type": "execute_result",
          "data": {
            "text/plain": [
              "'[CLS] săn sale black friday mua được giá hợp_lý tiki now ship rất nhanh tầm 1 nhận được sản_phẩm mua sản_phẩm online giá_trị tiền cao hơi lo tiki bảo_mật khâu vận_chuyển khá tốt sản_phẩm dùng chưa được dùng ổn hàng hãng [SEP] <pad> <pad> <pad> <pad> <pad> <pad> <pad> <pad> <pad> <pad> <pad> <pad> <pad> <pad> <pad> <pad> <pad> <pad> <pad> <pad> <pad> <pad> <pad> <pad> <pad> <pad> <pad> <pad> <pad> <pad> <pad> <pad> <pad> <pad> <pad> <pad> <pad> <pad> <pad> <pad> <pad> <pad> <pad> <pad> <pad> <pad> <pad> <pad> <pad> <pad> <pad> <pad> <pad> <pad> <pad> <pad> <pad> <pad> <pad> <pad> <pad> <pad> <pad> <pad> <pad> <pad> <pad> <pad> <pad> <pad> <pad> <pad> <pad> <pad> <pad> <pad> <pad> <pad> <pad> <pad> <pad> <pad> <pad> <pad> <pad> <pad> <pad> <pad> <pad> <pad> <pad> <pad> <pad> <pad> <pad> <pad> <pad> <pad> <pad> <pad> <pad> <pad> <pad> <pad> <pad> <pad> <pad> <pad> <pad> <pad> <pad> <pad> <pad> <pad> <pad> <pad> <pad> <pad> <pad> <pad> <pad> <pad> <pad> <pad> <pad> <pad> <pad> <pad> <pad> <pad> <pad> <pad> <pad> <pad> <pad> <pad> <pad> <pad> <pad> <pad> <pad> <pad> <pad> <pad> <pad> <pad> <pad> <pad> <pad> <pad> <pad> <pad> <pad> <pad>'"
            ],
            "application/vnd.google.colaboratory.intrinsic+json": {
              "type": "string"
            }
          },
          "metadata": {},
          "execution_count": 18
        }
      ],
      "source": [
        "tokenizer.decode(Xids[60])"
      ]
    },
    {
      "cell_type": "code",
      "execution_count": null,
      "metadata": {
        "colab": {
          "base_uri": "https://localhost:8080/"
        },
        "id": "3GWux-U3kQYl",
        "outputId": "79bbd759-7956-493d-fde2-0ce9aad03887"
      },
      "outputs": [
        {
          "output_type": "execute_result",
          "data": {
            "text/plain": [
              "array([[1., 0., 0., 0., 0.],\n",
              "       [0., 0., 0., 1., 0.],\n",
              "       [1., 0., 0., 0., 0.],\n",
              "       ...,\n",
              "       [0., 0., 0., 1., 0.],\n",
              "       [0., 0., 0., 1., 0.],\n",
              "       [0., 0., 0., 1., 0.]], dtype=float32)"
            ]
          },
          "metadata": {},
          "execution_count": 19
        }
      ],
      "source": [
        "labels = tf.keras.utils.to_categorical(df_data.Label)\n",
        "labels"
      ]
    },
    {
      "cell_type": "code",
      "execution_count": null,
      "metadata": {
        "id": "aqrxT2WUueXI"
      },
      "outputs": [],
      "source": [
        "dataset = tf.data.Dataset.from_tensor_slices((Xids, Xmask, labels))"
      ]
    },
    {
      "cell_type": "code",
      "execution_count": null,
      "metadata": {
        "id": "dSpmZctexCet"
      },
      "outputs": [],
      "source": [
        "def map_func(input_ids, masks, labels):\n",
        "    return {'input_ids': input_ids, 'attention_mask': masks}, labels"
      ]
    },
    {
      "cell_type": "code",
      "execution_count": null,
      "metadata": {
        "id": "PvNFyIqkxCUd"
      },
      "outputs": [],
      "source": [
        "dataset = dataset.map(map_func)\n",
        "dataset = dataset.shuffle(len(Xids)).batch(16)"
      ]
    },
    {
      "cell_type": "code",
      "execution_count": null,
      "metadata": {
        "id": "Onw2dUPVeN0S"
      },
      "outputs": [],
      "source": [
        "DS_LEN = len(list(dataset))\n",
        "\n",
        "train = dataset.take(round(DS_LEN* 0.8))\n",
        "val = dataset.skip(round(DS_LEN* 0.8))"
      ]
    },
    {
      "cell_type": "markdown",
      "metadata": {
        "id": "JV71wP7KetKN"
      },
      "source": [
        "### Model building"
      ]
    },
    {
      "cell_type": "code",
      "execution_count": null,
      "metadata": {
        "colab": {
          "base_uri": "https://localhost:8080/"
        },
        "id": "rTQxpvWVhoiU",
        "outputId": "8dc79294-3797-4431-e081-237ecc6b5a5d"
      },
      "outputs": [
        {
          "output_type": "stream",
          "name": "stdout",
          "text": [
            "WARNING:tensorflow:`period` argument is deprecated. Please use `save_freq` to specify the frequency in number of batches seen.\n"
          ]
        }
      ],
      "source": [
        "callbacks = [\n",
        "             tf.keras.callbacks.EarlyStopping(monitor='val_loss', min_delta=0, patience= 8, verbose=1),\n",
        "             tf.keras.callbacks.ReduceLROnPlateau( monitor='val_loss', factor=0.1, patience= 3, verbose=1, min_delta=0.001),\n",
        "             tf.keras.callbacks.ModelCheckpoint('/content/drive/MyDrive/checkpoints/phobert_LSTM/cp.ckpt', save_best_only=False, save_weights_only= True, save_freq='epoch', period = 10)\n",
        "]"
      ]
    },
    {
      "cell_type": "code",
      "execution_count": null,
      "metadata": {
        "colab": {
          "base_uri": "https://localhost:8080/",
          "height": 156,
          "referenced_widgets": [
            "34d498ea41b34f0abf894e9d0faa02e4",
            "112d846305bf4c6e9c0107c1a1213526",
            "6e6f1b4c435d46c09fe269ecea19b8e0",
            "c332e9b2641843d19cba7e9a66496216",
            "2fcc5323f15445ab963b5a15431b7ee5",
            "b0ba1e85fe334fd9b1f34658caf4641b",
            "6b25c99a877e4b55aadfdd97153b84fc",
            "eecfa6060d82430e880ad09220aa9fed",
            "d083e5c3c3d347e48770cb163ae1ea5f",
            "90b88be3a62e441888f4d3b59a5d2721",
            "14ef81af9c2e4f42a84a25cdb55b2fa4"
          ]
        },
        "id": "woSKT-Txe5T1",
        "outputId": "a112d39e-503e-4d29-8467-23ec6bf34d8a"
      },
      "outputs": [
        {
          "output_type": "display_data",
          "data": {
            "text/plain": [
              "Downloading:   0%|          | 0.00/706M [00:00<?, ?B/s]"
            ],
            "application/vnd.jupyter.widget-view+json": {
              "version_major": 2,
              "version_minor": 0,
              "model_id": "34d498ea41b34f0abf894e9d0faa02e4"
            }
          },
          "metadata": {}
        },
        {
          "output_type": "stream",
          "name": "stderr",
          "text": [
            "Some layers from the model checkpoint at vinai/phobert-base were not used when initializing TFRobertaModel: ['lm_head']\n",
            "- This IS expected if you are initializing TFRobertaModel from the checkpoint of a model trained on another task or with another architecture (e.g. initializing a BertForSequenceClassification model from a BertForPreTraining model).\n",
            "- This IS NOT expected if you are initializing TFRobertaModel from the checkpoint of a model that you expect to be exactly identical (initializing a BertForSequenceClassification model from a BertForSequenceClassification model).\n",
            "All the layers of TFRobertaModel were initialized from the model checkpoint at vinai/phobert-base.\n",
            "If your task is similar to the task the model of the checkpoint was trained on, you can already use TFRobertaModel for predictions without further training.\n"
          ]
        }
      ],
      "source": [
        "from transformers import TFAutoModel\n",
        "import tensorflow as tf \n",
        "\n",
        "bert = TFAutoModel.from_pretrained(\"vinai/phobert-base\",)\n",
        "bert.resize_token_embeddings(len(tokenizer)) \n",
        "\n",
        "input_ids = tf.keras.layers.Input(shape=(200,), name='input_ids', dtype='int64')\n",
        "mask = tf.keras.layers.Input(shape=(200,), name='attention_mask', dtype='int64')\n",
        "\n",
        "\n",
        "embeddings = bert(input_ids = input_ids, attention_mask= mask)[0]  # (last hidden state)\n",
        "\n",
        "X = tf.keras.layers.Bidirectional(tf.keras.layers.LSTM(256))(embeddings)\n",
        "X = tf.keras.layers.BatchNormalization()(X)\n",
        "X = tf.keras.layers.Dropout(0.1)(X)\n",
        "\n",
        "X = tf.keras.layers.Dense(256, activation='relu')(X)\n",
        "X = tf.keras.layers.BatchNormalization()(X)\n",
        "X = tf.keras.layers.Dropout(0.1)(X)\n",
        "\n",
        "X = tf.keras.layers.Dense(64, activation='relu')(X)\n",
        "X = tf.keras.layers.BatchNormalization()(X)\n",
        "X = tf.keras.layers.Dropout(0.1)(X)\n",
        "\n",
        "y = tf.keras.layers.Dense(5, activation='softmax', name='outputs')(X)\n"
      ]
    },
    {
      "cell_type": "code",
      "execution_count": null,
      "metadata": {
        "id": "n-qA6cXne5WM"
      },
      "outputs": [],
      "source": [
        "model = tf.keras.Model(inputs=[input_ids, mask], outputs=y)\n",
        "# model.layers[2].trainable = False\n",
        "\n",
        "loss = tf.keras.losses.CategoricalCrossentropy()\n",
        "optimizer = tf.keras.optimizers.Adam(learning_rate= 3e-5, epsilon=1e-8)\n",
        "metrics=[\n",
        "         tf.keras.metrics.CategoricalAccuracy(name='accuracy'), \n",
        "         tf.keras.metrics.Recall(),\n",
        "         tf.keras.metrics.Precision(),         \n",
        "         ]\n",
        "\n",
        "\n",
        "model.compile(loss=loss, optimizer=optimizer, metrics=metrics)"
      ]
    },
    {
      "cell_type": "code",
      "execution_count": null,
      "metadata": {
        "colab": {
          "base_uri": "https://localhost:8080/"
        },
        "id": "mCpYKxbl1_64",
        "outputId": "9233571d-4141-4742-eb81-53ff9c317d92"
      },
      "outputs": [
        {
          "output_type": "stream",
          "name": "stdout",
          "text": [
            "Model: \"model\"\n",
            "__________________________________________________________________________________________________\n",
            " Layer (type)                   Output Shape         Param #     Connected to                     \n",
            "==================================================================================================\n",
            " input_ids (InputLayer)         [(None, 200)]        0           []                               \n",
            "                                                                                                  \n",
            " attention_mask (InputLayer)    [(None, 200)]        0           []                               \n",
            "                                                                                                  \n",
            " tf_roberta_model (TFRobertaMod  TFBaseModelOutputWi  134999808  ['input_ids[0][0]',              \n",
            " el)                            thPoolingAndCrossAt               'attention_mask[0][0]']         \n",
            "                                tentions(last_hidde                                               \n",
            "                                n_state=(None, 200,                                               \n",
            "                                 768),                                                            \n",
            "                                 pooler_output=(Non                                               \n",
            "                                e, 768),                                                          \n",
            "                                 past_key_values=No                                               \n",
            "                                ne, hidden_states=N                                               \n",
            "                                one, attentions=Non                                               \n",
            "                                e, cross_attentions                                               \n",
            "                                =None)                                                            \n",
            "                                                                                                  \n",
            " bidirectional (Bidirectional)  (None, 512)          2099200     ['tf_roberta_model[0][0]']       \n",
            "                                                                                                  \n",
            " batch_normalization (BatchNorm  (None, 512)         2048        ['bidirectional[0][0]']          \n",
            " alization)                                                                                       \n",
            "                                                                                                  \n",
            " dropout_37 (Dropout)           (None, 512)          0           ['batch_normalization[0][0]']    \n",
            "                                                                                                  \n",
            " dense (Dense)                  (None, 256)          131328      ['dropout_37[0][0]']             \n",
            "                                                                                                  \n",
            " batch_normalization_1 (BatchNo  (None, 256)         1024        ['dense[0][0]']                  \n",
            " rmalization)                                                                                     \n",
            "                                                                                                  \n",
            " dropout_38 (Dropout)           (None, 256)          0           ['batch_normalization_1[0][0]']  \n",
            "                                                                                                  \n",
            " dense_1 (Dense)                (None, 64)           16448       ['dropout_38[0][0]']             \n",
            "                                                                                                  \n",
            " batch_normalization_2 (BatchNo  (None, 64)          256         ['dense_1[0][0]']                \n",
            " rmalization)                                                                                     \n",
            "                                                                                                  \n",
            " dropout_39 (Dropout)           (None, 64)           0           ['batch_normalization_2[0][0]']  \n",
            "                                                                                                  \n",
            " outputs (Dense)                (None, 5)            325         ['dropout_39[0][0]']             \n",
            "                                                                                                  \n",
            "==================================================================================================\n",
            "Total params: 137,250,437\n",
            "Trainable params: 137,248,773\n",
            "Non-trainable params: 1,664\n",
            "__________________________________________________________________________________________________\n"
          ]
        }
      ],
      "source": [
        "model.summary()\n"
      ]
    },
    {
      "cell_type": "code",
      "execution_count": null,
      "metadata": {
        "colab": {
          "base_uri": "https://localhost:8080/"
        },
        "id": "x0YSs5Y1iiKX",
        "outputId": "0dadbd4b-d404-4817-d937-eb4f06c31b8a"
      },
      "outputs": [
        {
          "output_type": "stream",
          "name": "stdout",
          "text": [
            "Epoch 1/100\n",
            "1114/1114 [==============================] - 559s 501ms/step - loss: 0.7263 - accuracy: 0.7209 - recall: 0.6721 - precision: 0.7545 - val_loss: 0.5732 - val_accuracy: 0.7768 - val_recall: 0.7225 - val_precision: 0.8189 - lr: 3.0000e-05\n",
            "Epoch 2/100\n",
            "1114/1114 [==============================] - 552s 495ms/step - loss: 0.6166 - accuracy: 0.7761 - recall: 0.7438 - precision: 0.8026 - val_loss: 0.4380 - val_accuracy: 0.8390 - val_recall: 0.8221 - val_precision: 0.8485 - lr: 3.0000e-05\n",
            "Epoch 3/100\n",
            "1114/1114 [==============================] - 551s 494ms/step - loss: 0.5250 - accuracy: 0.8139 - recall: 0.7901 - precision: 0.8341 - val_loss: 0.5302 - val_accuracy: 0.8005 - val_recall: 0.7622 - val_precision: 0.8208 - lr: 3.0000e-05\n",
            "Epoch 4/100\n",
            "1114/1114 [==============================] - 551s 494ms/step - loss: 0.4311 - accuracy: 0.8489 - recall: 0.8322 - precision: 0.8641 - val_loss: 0.3399 - val_accuracy: 0.8751 - val_recall: 0.8679 - val_precision: 0.8838 - lr: 3.0000e-05\n",
            "Epoch 5/100\n",
            "1114/1114 [==============================] - 551s 494ms/step - loss: 0.3568 - accuracy: 0.8780 - recall: 0.8688 - precision: 0.8888 - val_loss: 0.2893 - val_accuracy: 0.9004 - val_recall: 0.8947 - val_precision: 0.9058 - lr: 3.0000e-05\n",
            "Epoch 6/100\n",
            "1114/1114 [==============================] - 559s 501ms/step - loss: 0.3177 - accuracy: 0.8931 - recall: 0.8852 - precision: 0.9002 - val_loss: 0.1673 - val_accuracy: 0.9457 - val_recall: 0.9443 - val_precision: 0.9473 - lr: 3.0000e-05\n",
            "Epoch 7/100\n",
            "1114/1114 [==============================] - 553s 496ms/step - loss: 0.2647 - accuracy: 0.9144 - recall: 0.9074 - precision: 0.9198 - val_loss: 0.1318 - val_accuracy: 0.9585 - val_recall: 0.9563 - val_precision: 0.9591 - lr: 3.0000e-05\n",
            "Epoch 8/100\n",
            "1114/1114 [==============================] - 552s 495ms/step - loss: 0.2212 - accuracy: 0.9278 - recall: 0.9235 - precision: 0.9331 - val_loss: 0.1125 - val_accuracy: 0.9644 - val_recall: 0.9635 - val_precision: 0.9654 - lr: 3.0000e-05\n",
            "Epoch 9/100\n",
            "1114/1114 [==============================] - 551s 494ms/step - loss: 0.1993 - accuracy: 0.9353 - recall: 0.9321 - precision: 0.9402 - val_loss: 0.0985 - val_accuracy: 0.9696 - val_recall: 0.9693 - val_precision: 0.9704 - lr: 3.0000e-05\n",
            "Epoch 10/100\n",
            "1114/1114 [==============================] - 551s 494ms/step - loss: 0.1706 - accuracy: 0.9453 - recall: 0.9425 - precision: 0.9479 - val_loss: 0.1006 - val_accuracy: 0.9669 - val_recall: 0.9662 - val_precision: 0.9692 - lr: 3.0000e-05\n",
            "Epoch 11/100\n",
            "1114/1114 [==============================] - 557s 500ms/step - loss: 0.1683 - accuracy: 0.9463 - recall: 0.9440 - precision: 0.9492 - val_loss: 0.0769 - val_accuracy: 0.9745 - val_recall: 0.9736 - val_precision: 0.9754 - lr: 3.0000e-05\n",
            "Epoch 12/100\n",
            "1114/1114 [==============================] - 551s 495ms/step - loss: 0.1458 - accuracy: 0.9542 - recall: 0.9526 - precision: 0.9568 - val_loss: 0.0646 - val_accuracy: 0.9815 - val_recall: 0.9811 - val_precision: 0.9819 - lr: 3.0000e-05\n",
            "Epoch 13/100\n",
            "1114/1114 [==============================] - 550s 494ms/step - loss: 0.1387 - accuracy: 0.9580 - recall: 0.9560 - precision: 0.9598 - val_loss: 0.0643 - val_accuracy: 0.9808 - val_recall: 0.9804 - val_precision: 0.9815 - lr: 3.0000e-05\n",
            "Epoch 14/100\n",
            "1114/1114 [==============================] - 550s 493ms/step - loss: 0.1315 - accuracy: 0.9610 - recall: 0.9589 - precision: 0.9631 - val_loss: 0.0527 - val_accuracy: 0.9851 - val_recall: 0.9844 - val_precision: 0.9864 - lr: 3.0000e-05\n",
            "Epoch 15/100\n",
            "1114/1114 [==============================] - 551s 494ms/step - loss: 0.1193 - accuracy: 0.9634 - recall: 0.9616 - precision: 0.9645 - val_loss: 0.0628 - val_accuracy: 0.9822 - val_recall: 0.9815 - val_precision: 0.9826 - lr: 3.0000e-05\n",
            "Epoch 16/100\n",
            "1114/1114 [==============================] - 559s 501ms/step - loss: 0.0973 - accuracy: 0.9710 - recall: 0.9698 - precision: 0.9721 - val_loss: 0.0479 - val_accuracy: 0.9881 - val_recall: 0.9878 - val_precision: 0.9883 - lr: 3.0000e-05\n",
            "Epoch 17/100\n",
            "1114/1114 [==============================] - 554s 497ms/step - loss: 0.0995 - accuracy: 0.9716 - recall: 0.9705 - precision: 0.9724 - val_loss: 0.1078 - val_accuracy: 0.9621 - val_recall: 0.9612 - val_precision: 0.9623 - lr: 3.0000e-05\n",
            "Epoch 18/100\n",
            "1114/1114 [==============================] - 552s 495ms/step - loss: 0.1113 - accuracy: 0.9639 - recall: 0.9620 - precision: 0.9660 - val_loss: 0.0505 - val_accuracy: 0.9842 - val_recall: 0.9840 - val_precision: 0.9851 - lr: 3.0000e-05\n",
            "Epoch 19/100\n",
            "1114/1114 [==============================] - 552s 495ms/step - loss: 0.0935 - accuracy: 0.9734 - recall: 0.9721 - precision: 0.9746 - val_loss: 0.0441 - val_accuracy: 0.9860 - val_recall: 0.9858 - val_precision: 0.9860 - lr: 3.0000e-05\n",
            "Epoch 20/100\n",
            "1114/1114 [==============================] - 552s 495ms/step - loss: 0.0854 - accuracy: 0.9742 - recall: 0.9731 - precision: 0.9749 - val_loss: 0.0455 - val_accuracy: 0.9872 - val_recall: 0.9865 - val_precision: 0.9887 - lr: 3.0000e-05\n",
            "Epoch 21/100\n",
            "1114/1114 [==============================] - 557s 500ms/step - loss: 0.1001 - accuracy: 0.9698 - recall: 0.9686 - precision: 0.9712 - val_loss: 0.0373 - val_accuracy: 0.9899 - val_recall: 0.9896 - val_precision: 0.9903 - lr: 3.0000e-05\n",
            "Epoch 22/100\n",
            "1114/1114 [==============================] - 551s 495ms/step - loss: 0.0809 - accuracy: 0.9744 - recall: 0.9735 - precision: 0.9757 - val_loss: 0.0452 - val_accuracy: 0.9867 - val_recall: 0.9860 - val_precision: 0.9871 - lr: 3.0000e-05\n",
            "Epoch 23/100\n",
            "1114/1114 [==============================] - 550s 493ms/step - loss: 0.0713 - accuracy: 0.9781 - recall: 0.9771 - precision: 0.9790 - val_loss: 0.0421 - val_accuracy: 0.9838 - val_recall: 0.9831 - val_precision: 0.9838 - lr: 3.0000e-05\n",
            "Epoch 24/100\n",
            "1114/1114 [==============================] - 549s 492ms/step - loss: 0.0748 - accuracy: 0.9768 - recall: 0.9755 - precision: 0.9773 - val_loss: 0.0340 - val_accuracy: 0.9905 - val_recall: 0.9903 - val_precision: 0.9908 - lr: 3.0000e-05\n",
            "Epoch 25/100\n",
            "1114/1114 [==============================] - 549s 492ms/step - loss: 0.0691 - accuracy: 0.9784 - recall: 0.9778 - precision: 0.9794 - val_loss: 0.0372 - val_accuracy: 0.9890 - val_recall: 0.9885 - val_precision: 0.9894 - lr: 3.0000e-05\n",
            "Epoch 26/100\n",
            "1114/1114 [==============================] - 556s 499ms/step - loss: 0.0682 - accuracy: 0.9782 - recall: 0.9774 - precision: 0.9790 - val_loss: 0.0272 - val_accuracy: 0.9921 - val_recall: 0.9921 - val_precision: 0.9928 - lr: 3.0000e-05\n",
            "Epoch 27/100\n",
            "1114/1114 [==============================] - 551s 494ms/step - loss: 0.0664 - accuracy: 0.9790 - recall: 0.9781 - precision: 0.9800 - val_loss: 0.0271 - val_accuracy: 0.9908 - val_recall: 0.9908 - val_precision: 0.9914 - lr: 3.0000e-05\n",
            "Epoch 28/100\n",
            "1114/1114 [==============================] - 550s 494ms/step - loss: 0.0611 - accuracy: 0.9800 - recall: 0.9792 - precision: 0.9811 - val_loss: 0.0302 - val_accuracy: 0.9910 - val_recall: 0.9910 - val_precision: 0.9919 - lr: 3.0000e-05\n",
            "Epoch 29/100\n",
            "1114/1114 [==============================] - ETA: 0s - loss: 0.0677 - accuracy: 0.9785 - recall: 0.9777 - precision: 0.9796\n",
            "Epoch 29: ReduceLROnPlateau reducing learning rate to 2.9999999242136257e-06.\n",
            "1114/1114 [==============================] - 551s 494ms/step - loss: 0.0677 - accuracy: 0.9785 - recall: 0.9777 - precision: 0.9796 - val_loss: 0.0294 - val_accuracy: 0.9921 - val_recall: 0.9914 - val_precision: 0.9923 - lr: 3.0000e-05\n",
            "Epoch 30/100\n",
            "1114/1114 [==============================] - 551s 494ms/step - loss: 0.0365 - accuracy: 0.9893 - recall: 0.9889 - precision: 0.9901 - val_loss: 0.0173 - val_accuracy: 0.9948 - val_recall: 0.9946 - val_precision: 0.9948 - lr: 3.0000e-06\n",
            "Epoch 31/100\n",
            "1114/1114 [==============================] - 559s 501ms/step - loss: 0.0283 - accuracy: 0.9920 - recall: 0.9916 - precision: 0.9924 - val_loss: 0.0141 - val_accuracy: 0.9955 - val_recall: 0.9953 - val_precision: 0.9955 - lr: 3.0000e-06\n",
            "Epoch 32/100\n",
            "1114/1114 [==============================] - 553s 496ms/step - loss: 0.0236 - accuracy: 0.9930 - recall: 0.9929 - precision: 0.9933 - val_loss: 0.0177 - val_accuracy: 0.9948 - val_recall: 0.9948 - val_precision: 0.9950 - lr: 3.0000e-06\n",
            "Epoch 33/100\n",
            "1114/1114 [==============================] - 551s 494ms/step - loss: 0.0209 - accuracy: 0.9935 - recall: 0.9933 - precision: 0.9938 - val_loss: 0.0129 - val_accuracy: 0.9948 - val_recall: 0.9944 - val_precision: 0.9948 - lr: 3.0000e-06\n",
            "Epoch 34/100\n",
            "1114/1114 [==============================] - 551s 495ms/step - loss: 0.0184 - accuracy: 0.9946 - recall: 0.9943 - precision: 0.9949 - val_loss: 0.0094 - val_accuracy: 0.9955 - val_recall: 0.9955 - val_precision: 0.9957 - lr: 3.0000e-06\n",
            "Epoch 35/100\n",
            "1114/1114 [==============================] - 550s 494ms/step - loss: 0.0184 - accuracy: 0.9944 - recall: 0.9939 - precision: 0.9947 - val_loss: 0.0102 - val_accuracy: 0.9955 - val_recall: 0.9950 - val_precision: 0.9955 - lr: 3.0000e-06\n",
            "Epoch 36/100\n",
            "1114/1114 [==============================] - 557s 499ms/step - loss: 0.0168 - accuracy: 0.9944 - recall: 0.9939 - precision: 0.9946 - val_loss: 0.0090 - val_accuracy: 0.9957 - val_recall: 0.9957 - val_precision: 0.9962 - lr: 3.0000e-06\n",
            "Epoch 37/100\n",
            "1114/1114 [==============================] - 551s 495ms/step - loss: 0.0155 - accuracy: 0.9947 - recall: 0.9943 - precision: 0.9948 - val_loss: 0.0076 - val_accuracy: 0.9966 - val_recall: 0.9962 - val_precision: 0.9966 - lr: 3.0000e-06\n",
            "Epoch 38/100\n",
            "1114/1114 [==============================] - 549s 493ms/step - loss: 0.0160 - accuracy: 0.9938 - recall: 0.9933 - precision: 0.9942 - val_loss: 0.0092 - val_accuracy: 0.9959 - val_recall: 0.9957 - val_precision: 0.9962 - lr: 3.0000e-06\n",
            "Epoch 39/100\n",
            "1114/1114 [==============================] - 549s 492ms/step - loss: 0.0130 - accuracy: 0.9956 - recall: 0.9954 - precision: 0.9957 - val_loss: 0.0072 - val_accuracy: 0.9959 - val_recall: 0.9957 - val_precision: 0.9959 - lr: 3.0000e-06\n",
            "Epoch 40/100\n",
            "1114/1114 [==============================] - 550s 493ms/step - loss: 0.0125 - accuracy: 0.9952 - recall: 0.9951 - precision: 0.9954 - val_loss: 0.0062 - val_accuracy: 0.9966 - val_recall: 0.9966 - val_precision: 0.9966 - lr: 3.0000e-06\n",
            "Epoch 41/100\n",
            "1114/1114 [==============================] - 558s 501ms/step - loss: 0.0138 - accuracy: 0.9952 - recall: 0.9951 - precision: 0.9953 - val_loss: 0.0082 - val_accuracy: 0.9950 - val_recall: 0.9950 - val_precision: 0.9953 - lr: 3.0000e-06\n",
            "Epoch 42/100\n",
            "1114/1114 [==============================] - 553s 496ms/step - loss: 0.0145 - accuracy: 0.9948 - recall: 0.9947 - precision: 0.9951 - val_loss: 0.0102 - val_accuracy: 0.9955 - val_recall: 0.9955 - val_precision: 0.9955 - lr: 3.0000e-06\n",
            "Epoch 43/100\n",
            "1114/1114 [==============================] - ETA: 0s - loss: 0.0121 - accuracy: 0.9956 - recall: 0.9952 - precision: 0.9957\n",
            "Epoch 43: ReduceLROnPlateau reducing learning rate to 2.9999998787388907e-07.\n",
            "1114/1114 [==============================] - 552s 495ms/step - loss: 0.0121 - accuracy: 0.9956 - recall: 0.9952 - precision: 0.9957 - val_loss: 0.0072 - val_accuracy: 0.9962 - val_recall: 0.9962 - val_precision: 0.9962 - lr: 3.0000e-06\n",
            "Epoch 44/100\n",
            "1114/1114 [==============================] - 550s 493ms/step - loss: 0.0108 - accuracy: 0.9959 - recall: 0.9958 - precision: 0.9960 - val_loss: 0.0072 - val_accuracy: 0.9964 - val_recall: 0.9964 - val_precision: 0.9964 - lr: 3.0000e-07\n",
            "Epoch 45/100\n",
            "1114/1114 [==============================] - 551s 494ms/step - loss: 0.0108 - accuracy: 0.9958 - recall: 0.9957 - precision: 0.9959 - val_loss: 0.0083 - val_accuracy: 0.9957 - val_recall: 0.9957 - val_precision: 0.9957 - lr: 3.0000e-07\n",
            "Epoch 46/100\n",
            "1114/1114 [==============================] - ETA: 0s - loss: 0.0117 - accuracy: 0.9964 - recall: 0.9960 - precision: 0.9964\n",
            "Epoch 46: ReduceLROnPlateau reducing learning rate to 2.999999821895472e-08.\n",
            "1114/1114 [==============================] - 558s 501ms/step - loss: 0.0117 - accuracy: 0.9964 - recall: 0.9960 - precision: 0.9964 - val_loss: 0.0083 - val_accuracy: 0.9950 - val_recall: 0.9948 - val_precision: 0.9953 - lr: 3.0000e-07\n",
            "Epoch 47/100\n",
            "1114/1114 [==============================] - 553s 496ms/step - loss: 0.0103 - accuracy: 0.9955 - recall: 0.9953 - precision: 0.9957 - val_loss: 0.0077 - val_accuracy: 0.9959 - val_recall: 0.9957 - val_precision: 0.9962 - lr: 3.0000e-08\n",
            "Epoch 48/100\n",
            "1114/1114 [==============================] - 551s 494ms/step - loss: 0.0105 - accuracy: 0.9964 - recall: 0.9963 - precision: 0.9965 - val_loss: 0.0074 - val_accuracy: 0.9962 - val_recall: 0.9962 - val_precision: 0.9962 - lr: 3.0000e-08\n",
            "Epoch 48: early stopping\n"
          ]
        }
      ],
      "source": [
        "history = model.fit(train, \n",
        "                    validation_data= val, \n",
        "                    epochs= 100, \n",
        "                    callbacks= callbacks\n",
        "                    )"
      ]
    },
    {
      "cell_type": "markdown",
      "source": [
        "### Result graph"
      ],
      "metadata": {
        "id": "XJBLOjPqgDdv"
      }
    },
    {
      "cell_type": "code",
      "execution_count": null,
      "metadata": {
        "id": "pxIsuQrcjmcl",
        "colab": {
          "base_uri": "https://localhost:8080/",
          "height": 278
        },
        "outputId": "cf0eaeae-e2e3-4d89-9d23-4621c59f7c96"
      },
      "outputs": [
        {
          "output_type": "execute_result",
          "data": {
            "text/plain": [
              "<matplotlib.legend.Legend at 0x7ff3c3432590>"
            ]
          },
          "metadata": {},
          "execution_count": 57
        },
        {
          "output_type": "display_data",
          "data": {
            "text/plain": [
              "<Figure size 1080x360 with 2 Axes>"
            ],
            "image/png": "[encoded data removed]"
          },
          "metadata": {
            "needs_background": "light"
          }
        }
      ],
      "source": [
        "fig, ax = plt.subplots(1, 2, figsize=(15, 5))\n",
        "\n",
        "ax[0].set_title('Loss')\n",
        "ax[0].plot(history.history['loss'], label= 'train')\n",
        "ax[0].plot(history.history['val_loss'], label= 'val')\n",
        "ax[0].legend()\n",
        "\n",
        "ax[1].set_title('accuracy')\n",
        "ax[1].plot(history.history['accuracy'], label= 'train')\n",
        "ax[1].plot(history.history['val_accuracy'], label= 'val')\n",
        "ax[1].set_ylim([0,1])\n",
        "ax[1].legend()"
      ]
    },
    {
      "cell_type": "markdown",
      "source": [
        "### Evaluate"
      ],
      "metadata": {
        "id": "yJm8UHlzgHeH"
      }
    },
    {
      "cell_type": "markdown",
      "source": [
        "#### Load test set"
      ],
      "metadata": {
        "id": "b-bjjfsggLWm"
      }
    },
    {
      "cell_type": "code",
      "source": [
        "test_df = pd.read_excel('/content/drive/MyDrive/test.xlsx')\n",
        "test_df"
      ],
      "metadata": {
        "id": "iikOoGD-WCVs",
        "colab": {
          "base_uri": "https://localhost:8080/",
          "height": 423
        },
        "outputId": "37db5545-f3c9-412d-d7b2-855237a84282"
      },
      "execution_count": null,
      "outputs": [
        {
          "output_type": "execute_result",
          "data": {
            "text/plain": [
              "                                                Comment  Label\n",
              "0     máy bị hư pin hay gì đó pin Sài được 30% pin đ...      0\n",
              "1     Tiki giao hàng nhanh hơn hẳn so với các trang ...      3\n",
              "2     hàng điện tử mà không bọc chống sốc. tem bh dá...      1\n",
              "3     Case đẹp. Nhưng bị hỏng 1 cổng usb. Mà mình th...      0\n",
              "4     Màu hồng là màu mình thích, nên khi nhận được ...      4\n",
              "...                                                 ...    ...\n",
              "3869  ôi trông siêu đẹp luôn í,cứng cáp thích thật đ...      4\n",
              "3870  Giao hàng nhanh. Sản phẩm rất đẹp, mỏng, nhẹ. ...      2\n",
              "3871  Thiết kế ok Tốc độ phản hồi khá ấn tượng Kết n...      3\n",
              "3872  Sao chuột dùng đơ thế nhỉ? Mình di không đc lu...      1\n",
              "3873  Đã nhận dc hàng tuy hơi lâu ( gần 5 ngày ) cảm...      3\n",
              "\n",
              "[3874 rows x 2 columns]"
            ],
            "text/html": [
              "\n",
              "  <div id=\"df-52d7331a-4fa2-48f3-ae12-d5594c429755\">\n",
              "    <div class=\"colab-df-container\">\n",
              "      <div>\n",
              "<style scoped>\n",
              "    .dataframe tbody tr th:only-of-type {\n",
              "        vertical-align: middle;\n",
              "    }\n",
              "\n",
              "    .dataframe tbody tr th {\n",
              "        vertical-align: top;\n",
              "    }\n",
              "\n",
              "    .dataframe thead th {\n",
              "        text-align: right;\n",
              "    }\n",
              "</style>\n",
              "<table border=\"1\" class=\"dataframe\">\n",
              "  <thead>\n",
              "    <tr style=\"text-align: right;\">\n",
              "      <th></th>\n",
              "      <th>Comment</th>\n",
              "      <th>Label</th>\n",
              "    </tr>\n",
              "  </thead>\n",
              "  <tbody>\n",
              "    <tr>\n",
              "      <th>0</th>\n",
              "      <td>máy bị hư pin hay gì đó pin Sài được 30% pin đ...</td>\n",
              "      <td>0</td>\n",
              "    </tr>\n",
              "    <tr>\n",
              "      <th>1</th>\n",
              "      <td>Tiki giao hàng nhanh hơn hẳn so với các trang ...</td>\n",
              "      <td>3</td>\n",
              "    </tr>\n",
              "    <tr>\n",
              "      <th>2</th>\n",
              "      <td>hàng điện tử mà không bọc chống sốc. tem bh dá...</td>\n",
              "      <td>1</td>\n",
              "    </tr>\n",
              "    <tr>\n",
              "      <th>3</th>\n",
              "      <td>Case đẹp. Nhưng bị hỏng 1 cổng usb. Mà mình th...</td>\n",
              "      <td>0</td>\n",
              "    </tr>\n",
              "    <tr>\n",
              "      <th>4</th>\n",
              "      <td>Màu hồng là màu mình thích, nên khi nhận được ...</td>\n",
              "      <td>4</td>\n",
              "    </tr>\n",
              "    <tr>\n",
              "      <th>...</th>\n",
              "      <td>...</td>\n",
              "      <td>...</td>\n",
              "    </tr>\n",
              "    <tr>\n",
              "      <th>3869</th>\n",
              "      <td>ôi trông siêu đẹp luôn í,cứng cáp thích thật đ...</td>\n",
              "      <td>4</td>\n",
              "    </tr>\n",
              "    <tr>\n",
              "      <th>3870</th>\n",
              "      <td>Giao hàng nhanh. Sản phẩm rất đẹp, mỏng, nhẹ. ...</td>\n",
              "      <td>2</td>\n",
              "    </tr>\n",
              "    <tr>\n",
              "      <th>3871</th>\n",
              "      <td>Thiết kế ok Tốc độ phản hồi khá ấn tượng Kết n...</td>\n",
              "      <td>3</td>\n",
              "    </tr>\n",
              "    <tr>\n",
              "      <th>3872</th>\n",
              "      <td>Sao chuột dùng đơ thế nhỉ? Mình di không đc lu...</td>\n",
              "      <td>1</td>\n",
              "    </tr>\n",
              "    <tr>\n",
              "      <th>3873</th>\n",
              "      <td>Đã nhận dc hàng tuy hơi lâu ( gần 5 ngày ) cảm...</td>\n",
              "      <td>3</td>\n",
              "    </tr>\n",
              "  </tbody>\n",
              "</table>\n",
              "<p>3874 rows × 2 columns</p>\n",
              "</div>\n",
              "      <button class=\"colab-df-convert\" onclick=\"convertToInteractive('df-52d7331a-4fa2-48f3-ae12-d5594c429755')\"\n",
              "              title=\"Convert this dataframe to an interactive table.\"\n",
              "              style=\"display:none;\">\n",
              "        \n",
              "  <svg xmlns=\"http://www.w3.org/2000/svg\" height=\"24px\"viewBox=\"0 0 24 24\"\n",
              "       width=\"24px\">\n",
              "    <path d=\"M0 0h24v24H0V0z\" fill=\"none\"/>\n",
              "    <path d=\"M18.56 5.44l.94 2.06.94-2.06 2.06-.94-2.06-.94-.94-2.06-.94 2.06-2.06.94zm-11 1L8.5 8.5l.94-2.06 2.06-.94-2.06-.94L8.5 2.5l-.94 2.06-2.06.94zm10 10l.94 2.06.94-2.06 2.06-.94-2.06-.94-.94-2.06-.94 2.06-2.06.94z\"/><path d=\"M17.41 7.96l-1.37-1.37c-.4-.4-.92-.59-1.43-.59-.52 0-1.04.2-1.43.59L10.3 9.45l-7.72 7.72c-.78.78-.78 2.05 0 2.83L4 21.41c.39.39.9.59 1.41.59.51 0 1.02-.2 1.41-.59l7.78-7.78 2.81-2.81c.8-.78.8-2.07 0-2.86zM5.41 20L4 18.59l7.72-7.72 1.47 1.35L5.41 20z\"/>\n",
              "  </svg>\n",
              "      </button>\n",
              "      \n",
              "  <style>\n",
              "    .colab-df-container {\n",
              "      display:flex;\n",
              "      flex-wrap:wrap;\n",
              "      gap: 12px;\n",
              "    }\n",
              "\n",
              "    .colab-df-convert {\n",
              "      background-color: #E8F0FE;\n",
              "      border: none;\n",
              "      border-radius: 50%;\n",
              "      cursor: pointer;\n",
              "      display: none;\n",
              "      fill: #1967D2;\n",
              "      height: 32px;\n",
              "      padding: 0 0 0 0;\n",
              "      width: 32px;\n",
              "    }\n",
              "\n",
              "    .colab-df-convert:hover {\n",
              "      background-color: #E2EBFA;\n",
              "      box-shadow: 0px 1px 2px rgba(60, 64, 67, 0.3), 0px 1px 3px 1px rgba(60, 64, 67, 0.15);\n",
              "      fill: #174EA6;\n",
              "    }\n",
              "\n",
              "    [theme=dark] .colab-df-convert {\n",
              "      background-color: #3B4455;\n",
              "      fill: #D2E3FC;\n",
              "    }\n",
              "\n",
              "    [theme=dark] .colab-df-convert:hover {\n",
              "      background-color: #434B5C;\n",
              "      box-shadow: 0px 1px 3px 1px rgba(0, 0, 0, 0.15);\n",
              "      filter: drop-shadow(0px 1px 2px rgba(0, 0, 0, 0.3));\n",
              "      fill: #FFFFFF;\n",
              "    }\n",
              "  </style>\n",
              "\n",
              "      <script>\n",
              "        const buttonEl =\n",
              "          document.querySelector('#df-52d7331a-4fa2-48f3-ae12-d5594c429755 button.colab-df-convert');\n",
              "        buttonEl.style.display =\n",
              "          google.colab.kernel.accessAllowed ? 'block' : 'none';\n",
              "\n",
              "        async function convertToInteractive(key) {\n",
              "          const element = document.querySelector('#df-52d7331a-4fa2-48f3-ae12-d5594c429755');\n",
              "          const dataTable =\n",
              "            await google.colab.kernel.invokeFunction('convertToInteractive',\n",
              "                                                     [key], {});\n",
              "          if (!dataTable) return;\n",
              "\n",
              "          const docLinkHtml = 'Like what you see? Visit the ' +\n",
              "            '<a target=\"_blank\" href=https://colab.research.google.com/notebooks/data_table.ipynb>data table notebook</a>'\n",
              "            + ' to learn more about interactive tables.';\n",
              "          element.innerHTML = '';\n",
              "          dataTable['output_type'] = 'display_data';\n",
              "          await google.colab.output.renderOutput(dataTable, element);\n",
              "          const docLink = document.createElement('div');\n",
              "          docLink.innerHTML = docLinkHtml;\n",
              "          element.appendChild(docLink);\n",
              "        }\n",
              "      </script>\n",
              "    </div>\n",
              "  </div>\n",
              "  "
            ]
          },
          "metadata": {},
          "execution_count": 13
        }
      ]
    },
    {
      "cell_type": "code",
      "source": [
        "test_df.Comment = test_df.Comment.apply(text_clean)\n",
        "test_df"
      ],
      "metadata": {
        "id": "LUp5uh9IXZ8U",
        "colab": {
          "base_uri": "https://localhost:8080/",
          "height": 423
        },
        "outputId": "99e93a48-03fd-4376-e58f-28d2f6cfe87e"
      },
      "execution_count": null,
      "outputs": [
        {
          "output_type": "execute_result",
          "data": {
            "text/plain": [
              "                                                Comment  Label\n",
              "0     máy hư pin hay pin sài được 30 pin tắt nguồn s...      0\n",
              "1     tiki giao hàng nhanh hẳn trang khác hẹn 7 5 nh...      3\n",
              "2     hàng điện_tử không bọc chống sốc tem bh dán 1 ...      1\n",
              "3     case đẹp hỏng 1 cổng usb dùng nhiều 2 cổng bất...      0\n",
              "4     màu hồng màu thích nhận được sản_phẩm mới_tinh...      4\n",
              "...                                                 ...    ...\n",
              "3869             ôi trông siêu đẹp í cứng_cáp thích đấy      4\n",
              "3870  giao hàng nhanh sản_phẩm rất đẹp mỏng nhẹ tiếc...      2\n",
              "3871  thiết_kế ok tốc_độ phản_hồi khá ấn_tượng kết_n...      3\n",
              "3872                    sao chuột dùng đơ di không được      1\n",
              "3873  nhận được hàng hơi 5 ngày cảm_quan đóng_gói ok...      3\n",
              "\n",
              "[3874 rows x 2 columns]"
            ],
            "text/html": [
              "\n",
              "  <div id=\"df-30a23bb5-1440-4f35-a4c4-27c85f133683\">\n",
              "    <div class=\"colab-df-container\">\n",
              "      <div>\n",
              "<style scoped>\n",
              "    .dataframe tbody tr th:only-of-type {\n",
              "        vertical-align: middle;\n",
              "    }\n",
              "\n",
              "    .dataframe tbody tr th {\n",
              "        vertical-align: top;\n",
              "    }\n",
              "\n",
              "    .dataframe thead th {\n",
              "        text-align: right;\n",
              "    }\n",
              "</style>\n",
              "<table border=\"1\" class=\"dataframe\">\n",
              "  <thead>\n",
              "    <tr style=\"text-align: right;\">\n",
              "      <th></th>\n",
              "      <th>Comment</th>\n",
              "      <th>Label</th>\n",
              "    </tr>\n",
              "  </thead>\n",
              "  <tbody>\n",
              "    <tr>\n",
              "      <th>0</th>\n",
              "      <td>máy hư pin hay pin sài được 30 pin tắt nguồn s...</td>\n",
              "      <td>0</td>\n",
              "    </tr>\n",
              "    <tr>\n",
              "      <th>1</th>\n",
              "      <td>tiki giao hàng nhanh hẳn trang khác hẹn 7 5 nh...</td>\n",
              "      <td>3</td>\n",
              "    </tr>\n",
              "    <tr>\n",
              "      <th>2</th>\n",
              "      <td>hàng điện_tử không bọc chống sốc tem bh dán 1 ...</td>\n",
              "      <td>1</td>\n",
              "    </tr>\n",
              "    <tr>\n",
              "      <th>3</th>\n",
              "      <td>case đẹp hỏng 1 cổng usb dùng nhiều 2 cổng bất...</td>\n",
              "      <td>0</td>\n",
              "    </tr>\n",
              "    <tr>\n",
              "      <th>4</th>\n",
              "      <td>màu hồng màu thích nhận được sản_phẩm mới_tinh...</td>\n",
              "      <td>4</td>\n",
              "    </tr>\n",
              "    <tr>\n",
              "      <th>...</th>\n",
              "      <td>...</td>\n",
              "      <td>...</td>\n",
              "    </tr>\n",
              "    <tr>\n",
              "      <th>3869</th>\n",
              "      <td>ôi trông siêu đẹp í cứng_cáp thích đấy</td>\n",
              "      <td>4</td>\n",
              "    </tr>\n",
              "    <tr>\n",
              "      <th>3870</th>\n",
              "      <td>giao hàng nhanh sản_phẩm rất đẹp mỏng nhẹ tiếc...</td>\n",
              "      <td>2</td>\n",
              "    </tr>\n",
              "    <tr>\n",
              "      <th>3871</th>\n",
              "      <td>thiết_kế ok tốc_độ phản_hồi khá ấn_tượng kết_n...</td>\n",
              "      <td>3</td>\n",
              "    </tr>\n",
              "    <tr>\n",
              "      <th>3872</th>\n",
              "      <td>sao chuột dùng đơ di không được</td>\n",
              "      <td>1</td>\n",
              "    </tr>\n",
              "    <tr>\n",
              "      <th>3873</th>\n",
              "      <td>nhận được hàng hơi 5 ngày cảm_quan đóng_gói ok...</td>\n",
              "      <td>3</td>\n",
              "    </tr>\n",
              "  </tbody>\n",
              "</table>\n",
              "<p>3874 rows × 2 columns</p>\n",
              "</div>\n",
              "      <button class=\"colab-df-convert\" onclick=\"convertToInteractive('df-30a23bb5-1440-4f35-a4c4-27c85f133683')\"\n",
              "              title=\"Convert this dataframe to an interactive table.\"\n",
              "              style=\"display:none;\">\n",
              "        \n",
              "  <svg xmlns=\"http://www.w3.org/2000/svg\" height=\"24px\"viewBox=\"0 0 24 24\"\n",
              "       width=\"24px\">\n",
              "    <path d=\"M0 0h24v24H0V0z\" fill=\"none\"/>\n",
              "    <path d=\"M18.56 5.44l.94 2.06.94-2.06 2.06-.94-2.06-.94-.94-2.06-.94 2.06-2.06.94zm-11 1L8.5 8.5l.94-2.06 2.06-.94-2.06-.94L8.5 2.5l-.94 2.06-2.06.94zm10 10l.94 2.06.94-2.06 2.06-.94-2.06-.94-.94-2.06-.94 2.06-2.06.94z\"/><path d=\"M17.41 7.96l-1.37-1.37c-.4-.4-.92-.59-1.43-.59-.52 0-1.04.2-1.43.59L10.3 9.45l-7.72 7.72c-.78.78-.78 2.05 0 2.83L4 21.41c.39.39.9.59 1.41.59.51 0 1.02-.2 1.41-.59l7.78-7.78 2.81-2.81c.8-.78.8-2.07 0-2.86zM5.41 20L4 18.59l7.72-7.72 1.47 1.35L5.41 20z\"/>\n",
              "  </svg>\n",
              "      </button>\n",
              "      \n",
              "  <style>\n",
              "    .colab-df-container {\n",
              "      display:flex;\n",
              "      flex-wrap:wrap;\n",
              "      gap: 12px;\n",
              "    }\n",
              "\n",
              "    .colab-df-convert {\n",
              "      background-color: #E8F0FE;\n",
              "      border: none;\n",
              "      border-radius: 50%;\n",
              "      cursor: pointer;\n",
              "      display: none;\n",
              "      fill: #1967D2;\n",
              "      height: 32px;\n",
              "      padding: 0 0 0 0;\n",
              "      width: 32px;\n",
              "    }\n",
              "\n",
              "    .colab-df-convert:hover {\n",
              "      background-color: #E2EBFA;\n",
              "      box-shadow: 0px 1px 2px rgba(60, 64, 67, 0.3), 0px 1px 3px 1px rgba(60, 64, 67, 0.15);\n",
              "      fill: #174EA6;\n",
              "    }\n",
              "\n",
              "    [theme=dark] .colab-df-convert {\n",
              "      background-color: #3B4455;\n",
              "      fill: #D2E3FC;\n",
              "    }\n",
              "\n",
              "    [theme=dark] .colab-df-convert:hover {\n",
              "      background-color: #434B5C;\n",
              "      box-shadow: 0px 1px 3px 1px rgba(0, 0, 0, 0.15);\n",
              "      filter: drop-shadow(0px 1px 2px rgba(0, 0, 0, 0.3));\n",
              "      fill: #FFFFFF;\n",
              "    }\n",
              "  </style>\n",
              "\n",
              "      <script>\n",
              "        const buttonEl =\n",
              "          document.querySelector('#df-30a23bb5-1440-4f35-a4c4-27c85f133683 button.colab-df-convert');\n",
              "        buttonEl.style.display =\n",
              "          google.colab.kernel.accessAllowed ? 'block' : 'none';\n",
              "\n",
              "        async function convertToInteractive(key) {\n",
              "          const element = document.querySelector('#df-30a23bb5-1440-4f35-a4c4-27c85f133683');\n",
              "          const dataTable =\n",
              "            await google.colab.kernel.invokeFunction('convertToInteractive',\n",
              "                                                     [key], {});\n",
              "          if (!dataTable) return;\n",
              "\n",
              "          const docLinkHtml = 'Like what you see? Visit the ' +\n",
              "            '<a target=\"_blank\" href=https://colab.research.google.com/notebooks/data_table.ipynb>data table notebook</a>'\n",
              "            + ' to learn more about interactive tables.';\n",
              "          element.innerHTML = '';\n",
              "          dataTable['output_type'] = 'display_data';\n",
              "          await google.colab.output.renderOutput(dataTable, element);\n",
              "          const docLink = document.createElement('div');\n",
              "          docLink.innerHTML = docLinkHtml;\n",
              "          element.appendChild(docLink);\n",
              "        }\n",
              "      </script>\n",
              "    </div>\n",
              "  </div>\n",
              "  "
            ]
          },
          "metadata": {},
          "execution_count": 14
        }
      ]
    },
    {
      "cell_type": "code",
      "source": [
        "def map_func(input_ids, masks, labels):\n",
        "    return {'input_ids': input_ids, 'attention_mask': masks}, labels"
      ],
      "metadata": {
        "id": "QAdb79FcM3BN"
      },
      "execution_count": null,
      "outputs": []
    },
    {
      "cell_type": "code",
      "source": [
        "Xids = np.zeros((len(test_df), 200), dtype= 'int64')\n",
        "Xmask = np.zeros((len(test_df), 200), dtype= 'int64')\n",
        "\n",
        "for i, sentence in enumerate(test_df['Comment']):\n",
        "  Xids[i, :], Xmask[i, :] = word_vectorlizer(sentence)\n",
        "\n",
        "labels = tf.keras.utils.to_categorical(test_df['Label'])\n",
        "test_dataset = tf.data.Dataset.from_tensor_slices((Xids, Xmask, labels))\n",
        "test_dataset = test_dataset.map(map_func)\n",
        "test_dataset = test_dataset.batch(32)"
      ],
      "metadata": {
        "id": "VbYRMb3jYxPm"
      },
      "execution_count": null,
      "outputs": []
    },
    {
      "cell_type": "code",
      "source": [
        "latest = tf.train.latest_checkpoint('/content/drive/MyDrive/checkpoints/phobert_LSTM')\n",
        "model.load_weights(latest)"
      ],
      "metadata": {
        "id": "pFDBTi8WSSKR",
        "colab": {
          "base_uri": "https://localhost:8080/"
        },
        "outputId": "5b8f3479-a3a8-4625-e81b-80847ff349a8"
      },
      "execution_count": null,
      "outputs": [
        {
          "output_type": "execute_result",
          "data": {
            "text/plain": [
              "<tensorflow.python.training.tracking.util.CheckpointLoadStatus at 0x7f958af19f10>"
            ]
          },
          "metadata": {},
          "execution_count": 17
        }
      ]
    },
    {
      "cell_type": "code",
      "source": [
        "model.evaluate(test_dataset)"
      ],
      "metadata": {
        "colab": {
          "base_uri": "https://localhost:8080/"
        },
        "id": "CWAqiTlKhZrX",
        "outputId": "ee9ed51f-f31f-47e4-8a13-63fa498b1157"
      },
      "execution_count": null,
      "outputs": [
        {
          "output_type": "stream",
          "name": "stdout",
          "text": [
            "122/122 [==============================] - 42s 284ms/step - loss: 0.7440 - accuracy: 0.8606 - recall: 0.8593 - precision: 0.8633\n"
          ]
        },
        {
          "output_type": "execute_result",
          "data": {
            "text/plain": [
              "[0.7439889907836914,\n",
              " 0.8606091737747192,\n",
              " 0.8593185544013977,\n",
              " 0.8633298873901367]"
            ]
          },
          "metadata": {},
          "execution_count": 18
        }
      ]
    },
    {
      "cell_type": "code",
      "source": [
        "pred = model.predict(test_dataset)"
      ],
      "metadata": {
        "id": "6Y9MwLACq0D-"
      },
      "execution_count": null,
      "outputs": []
    },
    {
      "cell_type": "code",
      "source": [
        "y_pred = [ np.argmax(t) for t in pred ]"
      ],
      "metadata": {
        "id": "GinfxR1xN8tv"
      },
      "execution_count": null,
      "outputs": []
    },
    {
      "cell_type": "code",
      "source": [
        "from sklearn.metrics import confusion_matrix\n",
        "Y_test = test_df['Label'].to_numpy()\n",
        "\n",
        "cm = confusion_matrix(Y_test, y_pred)"
      ],
      "metadata": {
        "id": "TDriLIWUre1m"
      },
      "execution_count": null,
      "outputs": []
    },
    {
      "cell_type": "code",
      "source": [
        "from sklearn.metrics import classification_report\n",
        "\n",
        "print(classification_report(Y_test, y_pred))"
      ],
      "metadata": {
        "colab": {
          "base_uri": "https://localhost:8080/"
        },
        "id": "KSfEXV4zcnET",
        "outputId": "8a41e8c1-288e-4ad1-8b40-b39a16787e3d"
      },
      "execution_count": null,
      "outputs": [
        {
          "output_type": "stream",
          "name": "stdout",
          "text": [
            "              precision    recall  f1-score   support\n",
            "\n",
            "           0       0.90      0.89      0.89       794\n",
            "           1       0.76      0.76      0.76       489\n",
            "           2       0.71      0.80      0.75       454\n",
            "           3       0.83      0.83      0.83       766\n",
            "           4       0.95      0.92      0.93      1371\n",
            "\n",
            "    accuracy                           0.86      3874\n",
            "   macro avg       0.83      0.84      0.83      3874\n",
            "weighted avg       0.86      0.86      0.86      3874\n",
            "\n"
          ]
        }
      ]
    },
    {
      "cell_type": "code",
      "source": [
        "cm_df = pd.DataFrame(cm, index = ['1 Sao','2 Sao','3 Sao', '4 Sao', '5 Sao'], columns = ['1 Sao','2 Sao','3 Sao', '4 Sao', '5 Sao'])"
      ],
      "metadata": {
        "id": "KTXlfeepwBLk"
      },
      "execution_count": null,
      "outputs": []
    },
    {
      "cell_type": "code",
      "source": [
        "import seaborn as sns\n",
        "\n",
        "plt.figure(figsize=(14,10))\n",
        "sns.heatmap(cm_df, annot=True, fmt='d')\n",
        "plt.title('Confusion Matrix')\n",
        "plt.ylabel('Actal Values')\n",
        "plt.xlabel('Predicted Values')\n",
        "plt.show()"
      ],
      "metadata": {
        "id": "8ly12cwNpwGh",
        "colab": {
          "base_uri": "https://localhost:8080/",
          "height": 621
        },
        "outputId": "358dbe0d-90ae-44f0-d002-8c68f3b9c36d"
      },
      "execution_count": null,
      "outputs": [
        {
          "output_type": "display_data",
          "data": {
            "text/plain": [
              "<Figure size 1008x720 with 2 Axes>"
            ],
            "image/png": "[encoded data removed]"
          },
          "metadata": {
            "needs_background": "light"
          }
        }
      ]
    }
  ],
  "metadata": {
    "accelerator": "GPU",
    "colab": {
      "collapsed_sections": [],
      "name": "Sentimental analysis PhoBERT+LSTM",
      "provenance": [],
      "toc_visible": true
    },
    "kernelspec": {
      "display_name": "Python 3",
      "name": "python3"
    },
    "language_info": {
      "name": "python"
    },
    "widgets": {
      "application/vnd.jupyter.widget-state+json": {
        "34d498ea41b34f0abf894e9d0faa02e4": {
          "model_module": "@jupyter-widgets/controls",
          "model_name": "HBoxModel",
          "model_module_version": "1.5.0",
          "state": {
            "_dom_classes": [],
            "_model_module": "@jupyter-widgets/controls",
            "_model_module_version": "1.5.0",
            "_model_name": "HBoxModel",
            "_view_count": null,
            "_view_module": "@jupyter-widgets/controls",
            "_view_module_version": "1.5.0",
            "_view_name": "HBoxView",
            "box_style": "",
            "children": [
              "IPY_MODEL_112d846305bf4c6e9c0107c1a1213526",
              "IPY_MODEL_6e6f1b4c435d46c09fe269ecea19b8e0",
              "IPY_MODEL_c332e9b2641843d19cba7e9a66496216"
            ],
            "layout": "IPY_MODEL_2fcc5323f15445ab963b5a15431b7ee5"
          }
        },
        "112d846305bf4c6e9c0107c1a1213526": {
          "model_module": "@jupyter-widgets/controls",
          "model_name": "HTMLModel",
          "model_module_version": "1.5.0",
          "state": {
            "_dom_classes": [],
            "_model_module": "@jupyter-widgets/controls",
            "_model_module_version": "1.5.0",
            "_model_name": "HTMLModel",
            "_view_count": null,
            "_view_module": "@jupyter-widgets/controls",
            "_view_module_version": "1.5.0",
            "_view_name": "HTMLView",
            "description": "",
            "description_tooltip": null,
            "layout": "IPY_MODEL_b0ba1e85fe334fd9b1f34658caf4641b",
            "placeholder": "​",
            "style": "IPY_MODEL_6b25c99a877e4b55aadfdd97153b84fc",
            "value": "Downloading: 100%"
          }
        },
        "6e6f1b4c435d46c09fe269ecea19b8e0": {
          "model_module": "@jupyter-widgets/controls",
          "model_name": "FloatProgressModel",
          "model_module_version": "1.5.0",
          "state": {
            "_dom_classes": [],
            "_model_module": "@jupyter-widgets/controls",
            "_model_module_version": "1.5.0",
            "_model_name": "FloatProgressModel",
            "_view_count": null,
            "_view_module": "@jupyter-widgets/controls",
            "_view_module_version": "1.5.0",
            "_view_name": "ProgressView",
            "bar_style": "success",
            "description": "",
            "description_tooltip": null,
            "layout": "IPY_MODEL_eecfa6060d82430e880ad09220aa9fed",
            "max": 740310212,
            "min": 0,
            "orientation": "horizontal",
            "style": "IPY_MODEL_d083e5c3c3d347e48770cb163ae1ea5f",
            "value": 740310212
          }
        },
        "c332e9b2641843d19cba7e9a66496216": {
          "model_module": "@jupyter-widgets/controls",
          "model_name": "HTMLModel",
          "model_module_version": "1.5.0",
          "state": {
            "_dom_classes": [],
            "_model_module": "@jupyter-widgets/controls",
            "_model_module_version": "1.5.0",
            "_model_name": "HTMLModel",
            "_view_count": null,
            "_view_module": "@jupyter-widgets/controls",
            "_view_module_version": "1.5.0",
            "_view_name": "HTMLView",
            "description": "",
            "description_tooltip": null,
            "layout": "IPY_MODEL_90b88be3a62e441888f4d3b59a5d2721",
            "placeholder": "​",
            "style": "IPY_MODEL_14ef81af9c2e4f42a84a25cdb55b2fa4",
            "value": " 706M/706M [00:24&lt;00:00, 57.5MB/s]"
          }
        },
        "2fcc5323f15445ab963b5a15431b7ee5": {
          "model_module": "@jupyter-widgets/base",
          "model_name": "LayoutModel",
          "model_module_version": "1.2.0",
          "state": {
            "_model_module": "@jupyter-widgets/base",
            "_model_module_version": "1.2.0",
            "_model_name": "LayoutModel",
            "_view_count": null,
            "_view_module": "@jupyter-widgets/base",
            "_view_module_version": "1.2.0",
            "_view_name": "LayoutView",
            "align_content": null,
            "align_items": null,
            "align_self": null,
            "border": null,
            "bottom": null,
            "display": null,
            "flex": null,
            "flex_flow": null,
            "grid_area": null,
            "grid_auto_columns": null,
            "grid_auto_flow": null,
            "grid_auto_rows": null,
            "grid_column": null,
            "grid_gap": null,
            "grid_row": null,
            "grid_template_areas": null,
            "grid_template_columns": null,
            "grid_template_rows": null,
            "height": null,
            "justify_content": null,
            "justify_items": null,
            "left": null,
            "margin": null,
            "max_height": null,
            "max_width": null,
            "min_height": null,
            "min_width": null,
            "object_fit": null,
            "object_position": null,
            "order": null,
            "overflow": null,
            "overflow_x": null,
            "overflow_y": null,
            "padding": null,
            "right": null,
            "top": null,
            "visibility": null,
            "width": null
          }
        },
        "b0ba1e85fe334fd9b1f34658caf4641b": {
          "model_module": "@jupyter-widgets/base",
          "model_name": "LayoutModel",
          "model_module_version": "1.2.0",
          "state": {
            "_model_module": "@jupyter-widgets/base",
            "_model_module_version": "1.2.0",
            "_model_name": "LayoutModel",
            "_view_count": null,
            "_view_module": "@jupyter-widgets/base",
            "_view_module_version": "1.2.0",
            "_view_name": "LayoutView",
            "align_content": null,
            "align_items": null,
            "align_self": null,
            "border": null,
            "bottom": null,
            "display": null,
            "flex": null,
            "flex_flow": null,
            "grid_area": null,
            "grid_auto_columns": null,
            "grid_auto_flow": null,
            "grid_auto_rows": null,
            "grid_column": null,
            "grid_gap": null,
            "grid_row": null,
            "grid_template_areas": null,
            "grid_template_columns": null,
            "grid_template_rows": null,
            "height": null,
            "justify_content": null,
            "justify_items": null,
            "left": null,
            "margin": null,
            "max_height": null,
            "max_width": null,
            "min_height": null,
            "min_width": null,
            "object_fit": null,
            "object_position": null,
            "order": null,
            "overflow": null,
            "overflow_x": null,
            "overflow_y": null,
            "padding": null,
            "right": null,
            "top": null,
            "visibility": null,
            "width": null
          }
        },
        "6b25c99a877e4b55aadfdd97153b84fc": {
          "model_module": "@jupyter-widgets/controls",
          "model_name": "DescriptionStyleModel",
          "model_module_version": "1.5.0",
          "state": {
            "_model_module": "@jupyter-widgets/controls",
            "_model_module_version": "1.5.0",
            "_model_name": "DescriptionStyleModel",
            "_view_count": null,
            "_view_module": "@jupyter-widgets/base",
            "_view_module_version": "1.2.0",
            "_view_name": "StyleView",
            "description_width": ""
          }
        },
        "eecfa6060d82430e880ad09220aa9fed": {
          "model_module": "@jupyter-widgets/base",
          "model_name": "LayoutModel",
          "model_module_version": "1.2.0",
          "state": {
            "_model_module": "@jupyter-widgets/base",
            "_model_module_version": "1.2.0",
            "_model_name": "LayoutModel",
            "_view_count": null,
            "_view_module": "@jupyter-widgets/base",
            "_view_module_version": "1.2.0",
            "_view_name": "LayoutView",
            "align_content": null,
            "align_items": null,
            "align_self": null,
            "border": null,
            "bottom": null,
            "display": null,
            "flex": null,
            "flex_flow": null,
            "grid_area": null,
            "grid_auto_columns": null,
            "grid_auto_flow": null,
            "grid_auto_rows": null,
            "grid_column": null,
            "grid_gap": null,
            "grid_row": null,
            "grid_template_areas": null,
            "grid_template_columns": null,
            "grid_template_rows": null,
            "height": null,
            "justify_content": null,
            "justify_items": null,
            "left": null,
            "margin": null,
            "max_height": null,
            "max_width": null,
            "min_height": null,
            "min_width": null,
            "object_fit": null,
            "object_position": null,
            "order": null,
            "overflow": null,
            "overflow_x": null,
            "overflow_y": null,
            "padding": null,
            "right": null,
            "top": null,
            "visibility": null,
            "width": null
          }
        },
        "d083e5c3c3d347e48770cb163ae1ea5f": {
          "model_module": "@jupyter-widgets/controls",
          "model_name": "ProgressStyleModel",
          "model_module_version": "1.5.0",
          "state": {
            "_model_module": "@jupyter-widgets/controls",
            "_model_module_version": "1.5.0",
            "_model_name": "ProgressStyleModel",
            "_view_count": null,
            "_view_module": "@jupyter-widgets/base",
            "_view_module_version": "1.2.0",
            "_view_name": "StyleView",
            "bar_color": null,
            "description_width": ""
          }
        },
        "90b88be3a62e441888f4d3b59a5d2721": {
          "model_module": "@jupyter-widgets/base",
          "model_name": "LayoutModel",
          "model_module_version": "1.2.0",
          "state": {
            "_model_module": "@jupyter-widgets/base",
            "_model_module_version": "1.2.0",
            "_model_name": "LayoutModel",
            "_view_count": null,
            "_view_module": "@jupyter-widgets/base",
            "_view_module_version": "1.2.0",
            "_view_name": "LayoutView",
            "align_content": null,
            "align_items": null,
            "align_self": null,
            "border": null,
            "bottom": null,
            "display": null,
            "flex": null,
            "flex_flow": null,
            "grid_area": null,
            "grid_auto_columns": null,
            "grid_auto_flow": null,
            "grid_auto_rows": null,
            "grid_column": null,
            "grid_gap": null,
            "grid_row": null,
            "grid_template_areas": null,
            "grid_template_columns": null,
            "grid_template_rows": null,
            "height": null,
            "justify_content": null,
            "justify_items": null,
            "left": null,
            "margin": null,
            "max_height": null,
            "max_width": null,
            "min_height": null,
            "min_width": null,
            "object_fit": null,
            "object_position": null,
            "order": null,
            "overflow": null,
            "overflow_x": null,
            "overflow_y": null,
            "padding": null,
            "right": null,
            "top": null,
            "visibility": null,
            "width": null
          }
        },
        "14ef81af9c2e4f42a84a25cdb55b2fa4": {
          "model_module": "@jupyter-widgets/controls",
          "model_name": "DescriptionStyleModel",
          "model_module_version": "1.5.0",
          "state": {
            "_model_module": "@jupyter-widgets/controls",
            "_model_module_version": "1.5.0",
            "_model_name": "DescriptionStyleModel",
            "_view_count": null,
            "_view_module": "@jupyter-widgets/base",
            "_view_module_version": "1.2.0",
            "_view_name": "StyleView",
            "description_width": ""
          }
        }
      }
    }
  },
  "nbformat": 4,
  "nbformat_minor": 0
}